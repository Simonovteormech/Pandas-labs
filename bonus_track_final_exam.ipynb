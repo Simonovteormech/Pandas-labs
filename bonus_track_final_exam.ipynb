{
 "cells": [
  {
   "cell_type": "code",
   "execution_count": 1,
   "metadata": {},
   "outputs": [
    {
     "data": {
      "text/html": [
       "<div>\n",
       "<style scoped>\n",
       "    .dataframe tbody tr th:only-of-type {\n",
       "        vertical-align: middle;\n",
       "    }\n",
       "\n",
       "    .dataframe tbody tr th {\n",
       "        vertical-align: top;\n",
       "    }\n",
       "\n",
       "    .dataframe thead th {\n",
       "        text-align: right;\n",
       "    }\n",
       "</style>\n",
       "<table border=\"1\" class=\"dataframe\">\n",
       "  <thead>\n",
       "    <tr style=\"text-align: right;\">\n",
       "      <th></th>\n",
       "      <th>Unnamed: 0</th>\n",
       "      <th>Unnamed: 0.3</th>\n",
       "      <th>Unnamed: 0.2</th>\n",
       "      <th>Unnamed: 0.1</th>\n",
       "      <th>Unnamed: 0.1.1</th>\n",
       "      <th>_id</th>\n",
       "      <th>nameRu</th>\n",
       "      <th>nameEn</th>\n",
       "      <th>year</th>\n",
       "      <th>posterUrl</th>\n",
       "      <th>...</th>\n",
       "      <th>directors[32].directorEn</th>\n",
       "      <th>directors[33].directorEn</th>\n",
       "      <th>directors[34].directorEn</th>\n",
       "      <th>directors[35].directorEn</th>\n",
       "      <th>filmId</th>\n",
       "      <th>type</th>\n",
       "      <th>amount</th>\n",
       "      <th>cur</th>\n",
       "      <th>directors</th>\n",
       "      <th>rating</th>\n",
       "    </tr>\n",
       "  </thead>\n",
       "  <tbody>\n",
       "    <tr>\n",
       "      <th>0</th>\n",
       "      <td>0</td>\n",
       "      <td>0</td>\n",
       "      <td>0</td>\n",
       "      <td>0</td>\n",
       "      <td>0</td>\n",
       "      <td>647385e537c1458c9452b5ba</td>\n",
       "      <td>И целого мира мало</td>\n",
       "      <td>The World Is Not Enough</td>\n",
       "      <td>1999</td>\n",
       "      <td>https://kinopoiskapiunofficial.tech/images/pos...</td>\n",
       "      <td>...</td>\n",
       "      <td>NaN</td>\n",
       "      <td>NaN</td>\n",
       "      <td>NaN</td>\n",
       "      <td>NaN</td>\n",
       "      <td>6585</td>\n",
       "      <td>BUDGET</td>\n",
       "      <td>135000000.0</td>\n",
       "      <td>USD</td>\n",
       "      <td>1</td>\n",
       "      <td>7.034</td>\n",
       "    </tr>\n",
       "    <tr>\n",
       "      <th>1</th>\n",
       "      <td>1</td>\n",
       "      <td>1</td>\n",
       "      <td>1</td>\n",
       "      <td>1</td>\n",
       "      <td>1</td>\n",
       "      <td>647385e537c1458c9452b5bb</td>\n",
       "      <td>Суперагент Саймон</td>\n",
       "      <td>Simon Sez</td>\n",
       "      <td>1999</td>\n",
       "      <td>https://kinopoiskapiunofficial.tech/images/pos...</td>\n",
       "      <td>...</td>\n",
       "      <td>NaN</td>\n",
       "      <td>NaN</td>\n",
       "      <td>NaN</td>\n",
       "      <td>NaN</td>\n",
       "      <td>25189</td>\n",
       "      <td>BUDGET</td>\n",
       "      <td>10000000.0</td>\n",
       "      <td>USD</td>\n",
       "      <td>1</td>\n",
       "      <td>4.654</td>\n",
       "    </tr>\n",
       "    <tr>\n",
       "      <th>2</th>\n",
       "      <td>2</td>\n",
       "      <td>2</td>\n",
       "      <td>2</td>\n",
       "      <td>2</td>\n",
       "      <td>2</td>\n",
       "      <td>647385e537c1458c9452b5bc</td>\n",
       "      <td>Бойцовский клуб</td>\n",
       "      <td>Fight Club</td>\n",
       "      <td>1999</td>\n",
       "      <td>https://kinopoiskapiunofficial.tech/images/pos...</td>\n",
       "      <td>...</td>\n",
       "      <td>NaN</td>\n",
       "      <td>NaN</td>\n",
       "      <td>NaN</td>\n",
       "      <td>NaN</td>\n",
       "      <td>361</td>\n",
       "      <td>BUDGET</td>\n",
       "      <td>63000000.0</td>\n",
       "      <td>USD</td>\n",
       "      <td>1</td>\n",
       "      <td>8.664</td>\n",
       "    </tr>\n",
       "    <tr>\n",
       "      <th>3</th>\n",
       "      <td>3</td>\n",
       "      <td>3</td>\n",
       "      <td>3</td>\n",
       "      <td>3</td>\n",
       "      <td>3</td>\n",
       "      <td>647385e537c1458c9452b5bd</td>\n",
       "      <td>Паутина лжи</td>\n",
       "      <td>Random Hearts</td>\n",
       "      <td>1999</td>\n",
       "      <td>https://kinopoiskapiunofficial.tech/images/pos...</td>\n",
       "      <td>...</td>\n",
       "      <td>NaN</td>\n",
       "      <td>NaN</td>\n",
       "      <td>NaN</td>\n",
       "      <td>NaN</td>\n",
       "      <td>2761</td>\n",
       "      <td>BUDGET</td>\n",
       "      <td>64000000.0</td>\n",
       "      <td>USD</td>\n",
       "      <td>1</td>\n",
       "      <td>6.053</td>\n",
       "    </tr>\n",
       "    <tr>\n",
       "      <th>4</th>\n",
       "      <td>4</td>\n",
       "      <td>4</td>\n",
       "      <td>4</td>\n",
       "      <td>4</td>\n",
       "      <td>4</td>\n",
       "      <td>647385e637c1458c9452b5be</td>\n",
       "      <td>Любить по-русски 3: Губернатор</td>\n",
       "      <td>NaN</td>\n",
       "      <td>1999</td>\n",
       "      <td>https://kinopoiskapiunofficial.tech/images/pos...</td>\n",
       "      <td>...</td>\n",
       "      <td>NaN</td>\n",
       "      <td>NaN</td>\n",
       "      <td>NaN</td>\n",
       "      <td>NaN</td>\n",
       "      <td>94081</td>\n",
       "      <td>NaN</td>\n",
       "      <td>0.0</td>\n",
       "      <td>NaN</td>\n",
       "      <td>0</td>\n",
       "      <td>5.207</td>\n",
       "    </tr>\n",
       "  </tbody>\n",
       "</table>\n",
       "<p>5 rows × 96 columns</p>\n",
       "</div>"
      ],
      "text/plain": [
       "   Unnamed: 0  Unnamed: 0.3  Unnamed: 0.2  Unnamed: 0.1  Unnamed: 0.1.1  \\\n",
       "0           0             0             0             0               0   \n",
       "1           1             1             1             1               1   \n",
       "2           2             2             2             2               2   \n",
       "3           3             3             3             3               3   \n",
       "4           4             4             4             4               4   \n",
       "\n",
       "                        _id                          nameRu  \\\n",
       "0  647385e537c1458c9452b5ba              И целого мира мало   \n",
       "1  647385e537c1458c9452b5bb               Суперагент Саймон   \n",
       "2  647385e537c1458c9452b5bc                 Бойцовский клуб   \n",
       "3  647385e537c1458c9452b5bd                     Паутина лжи   \n",
       "4  647385e637c1458c9452b5be  Любить по-русски 3: Губернатор   \n",
       "\n",
       "                    nameEn  year  \\\n",
       "0  The World Is Not Enough  1999   \n",
       "1                Simon Sez  1999   \n",
       "2               Fight Club  1999   \n",
       "3            Random Hearts  1999   \n",
       "4                      NaN  1999   \n",
       "\n",
       "                                           posterUrl  ...  \\\n",
       "0  https://kinopoiskapiunofficial.tech/images/pos...  ...   \n",
       "1  https://kinopoiskapiunofficial.tech/images/pos...  ...   \n",
       "2  https://kinopoiskapiunofficial.tech/images/pos...  ...   \n",
       "3  https://kinopoiskapiunofficial.tech/images/pos...  ...   \n",
       "4  https://kinopoiskapiunofficial.tech/images/pos...  ...   \n",
       "\n",
       "  directors[32].directorEn directors[33].directorEn directors[34].directorEn  \\\n",
       "0                      NaN                      NaN                      NaN   \n",
       "1                      NaN                      NaN                      NaN   \n",
       "2                      NaN                      NaN                      NaN   \n",
       "3                      NaN                      NaN                      NaN   \n",
       "4                      NaN                      NaN                      NaN   \n",
       "\n",
       "  directors[35].directorEn filmId    type       amount  cur directors rating  \n",
       "0                      NaN   6585  BUDGET  135000000.0  USD         1  7.034  \n",
       "1                      NaN  25189  BUDGET   10000000.0  USD         1  4.654  \n",
       "2                      NaN    361  BUDGET   63000000.0  USD         1  8.664  \n",
       "3                      NaN   2761  BUDGET   64000000.0  USD         1  6.053  \n",
       "4                      NaN  94081     NaN          0.0  NaN         0  5.207  \n",
       "\n",
       "[5 rows x 96 columns]"
      ]
     },
     "execution_count": 1,
     "metadata": {},
     "output_type": "execute_result"
    }
   ],
   "source": [
    "import pandas as pd\n",
    "df = pd.read_csv(r\"C:\\Users\\yaroslav\\Downloads\\att1_091.csv\")\n",
    "df.head()"
   ]
  },
  {
   "cell_type": "code",
   "execution_count": 3,
   "metadata": {},
   "outputs": [
    {
     "data": {
      "text/plain": [
       "1.0"
      ]
     },
     "execution_count": 3,
     "metadata": {},
     "output_type": "execute_result"
    }
   ],
   "source": [
    "min_length_russian_title = df['nameRu'].str.len().min()\n",
    "min_length_russian_title"
   ]
  },
  {
   "cell_type": "code",
   "execution_count": 5,
   "metadata": {},
   "outputs": [
    {
     "data": {
      "text/plain": [
       "[279724, 77437, 669654]"
      ]
     },
     "execution_count": 5,
     "metadata": {},
     "output_type": "execute_result"
    }
   ],
   "source": [
    "sorted_data = df.sort_values(by='directors', ascending=False)\n",
    "top_three_film_ids = sorted_data['filmId'].head(3).tolist()\n",
    "top_three_film_ids"
   ]
  },
  {
   "cell_type": "code",
   "execution_count": 9,
   "metadata": {},
   "outputs": [
    {
     "data": {
      "text/plain": [
       "1013"
      ]
     },
     "execution_count": 9,
     "metadata": {},
     "output_type": "execute_result"
    }
   ],
   "source": [
    "budget_rows = df[df['type'] == 'BUDGET']\n",
    "non_zero_budget_count = budget_rows[budget_rows['amount'] != 0].shape[0]\n",
    "non_zero_budget_count"
   ]
  },
  {
   "cell_type": "code",
   "execution_count": 23,
   "metadata": {},
   "outputs": [
    {
     "data": {
      "text/plain": [
       "6.702399014778317"
      ]
     },
     "execution_count": 23,
     "metadata": {},
     "output_type": "execute_result"
    }
   ],
   "source": [
    "budget_rows['rating'].mean()"
   ]
  },
  {
   "cell_type": "code",
   "execution_count": 11,
   "metadata": {},
   "outputs": [
    {
     "data": {
      "text/plain": [
       "6.052385728796339"
      ]
     },
     "execution_count": 11,
     "metadata": {},
     "output_type": "execute_result"
    }
   ],
   "source": [
    "df['rating'].mean()"
   ]
  }
 ],
 "metadata": {
  "kernelspec": {
   "display_name": "Python 3",
   "language": "python",
   "name": "python3"
  },
  "language_info": {
   "codemirror_mode": {
    "name": "ipython",
    "version": 3
   },
   "file_extension": ".py",
   "mimetype": "text/x-python",
   "name": "python",
   "nbconvert_exporter": "python",
   "pygments_lexer": "ipython3",
   "version": "3.8.5"
  }
 },
 "nbformat": 4,
 "nbformat_minor": 4
}
