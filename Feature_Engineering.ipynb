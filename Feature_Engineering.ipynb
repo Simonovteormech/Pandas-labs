{
 "cells": [
  {
   "cell_type": "markdown",
   "id": "77bbd79a",
   "metadata": {},
   "source": [
    "# Генерация дополнительных строковых фичей."
   ]
  },
  {
   "cell_type": "markdown",
   "id": "4f6d4402",
   "metadata": {},
   "source": [
    "## Описание датасета:\n",
    "- `id`: идентификатор записи;\n",
    "- `url`: URL-записи о продаже;\n",
    "- `region`: регион;\n",
    "- `region_url`: URL региона;\n",
    "- `price`: стоимость;\n",
    "- `year`: год выпуска;\n",
    "- `manufacturer`: производитель;\n",
    "- `model`: модель;\n",
    "- `condition`: состояние;\n",
    "- `cylinders`: количество цилиндров;\n",
    "- `fuel`: тип топлива;\n",
    "- `odometer`: количество пройденных миль;\n",
    "- `title_status`: статус;\n",
    "- `transmission`: коробка передач;\n",
    "- `VIN`: идентификационный номер;\n",
    "- `drive`: тип привода;\n",
    "- `size`: размер;\n",
    "- `type`: кузов;\n",
    "- `paint_color`: цвет;\n",
    "- `image_url`: URL изображения;\n",
    "- `description`: указанное описание;\n",
    "- `county`: страна;\n",
    "- `state`: штат;\n",
    "- `lat`: широта;\n",
    "- `long`: долгота;\n",
    "- `posting_date`: дата размещения объявления о продаже;\n",
    "- `price_category`: категория цены.\n",
    "\n"
   ]
  },
  {
   "cell_type": "code",
   "execution_count": 1,
   "id": "0adf58a8",
   "metadata": {},
   "outputs": [],
   "source": [
    "import pandas as pd\n",
    "import matplotlib.pyplot as plt\n",
    "from sklearn.preprocessing import OneHotEncoder\n",
    "from sklearn.preprocessing import StandardScaler"
   ]
  },
  {
   "cell_type": "markdown",
   "id": "3d075f3a",
   "metadata": {},
   "source": [
    "### Построение признаков из строк\n",
    "\n",
    "1. Загрузим датасет из `data/vehicles_dataset_upd6.csv`, выведем первые 5 записей."
   ]
  },
  {
   "cell_type": "code",
   "execution_count": 2,
   "id": "0041a87c",
   "metadata": {},
   "outputs": [
    {
     "data": {
      "text/html": [
       "<div>\n",
       "<style scoped>\n",
       "    .dataframe tbody tr th:only-of-type {\n",
       "        vertical-align: middle;\n",
       "    }\n",
       "\n",
       "    .dataframe tbody tr th {\n",
       "        vertical-align: top;\n",
       "    }\n",
       "\n",
       "    .dataframe thead th {\n",
       "        text-align: right;\n",
       "    }\n",
       "</style>\n",
       "<table border=\"1\" class=\"dataframe\">\n",
       "  <thead>\n",
       "    <tr style=\"text-align: right;\">\n",
       "      <th></th>\n",
       "      <th>id</th>\n",
       "      <th>url</th>\n",
       "      <th>region</th>\n",
       "      <th>region_url</th>\n",
       "      <th>price</th>\n",
       "      <th>year</th>\n",
       "      <th>manufacturer</th>\n",
       "      <th>model</th>\n",
       "      <th>fuel</th>\n",
       "      <th>odometer</th>\n",
       "      <th>...</th>\n",
       "      <th>is_jeep</th>\n",
       "      <th>is_honda</th>\n",
       "      <th>is_nissan</th>\n",
       "      <th>x0_diesel</th>\n",
       "      <th>x0_electric</th>\n",
       "      <th>x0_gas</th>\n",
       "      <th>x0_hybrid</th>\n",
       "      <th>x0_other</th>\n",
       "      <th>std_scaled_odometer</th>\n",
       "      <th>std_scaled_price</th>\n",
       "    </tr>\n",
       "  </thead>\n",
       "  <tbody>\n",
       "    <tr>\n",
       "      <th>0</th>\n",
       "      <td>7308295377</td>\n",
       "      <td>https://chattanooga.craigslist.org/ctd/d/chatt...</td>\n",
       "      <td>chattanooga</td>\n",
       "      <td>https://chattanooga.craigslist.org</td>\n",
       "      <td>54990</td>\n",
       "      <td>2020</td>\n",
       "      <td>ram</td>\n",
       "      <td>2500 crew cab big horn</td>\n",
       "      <td>diesel</td>\n",
       "      <td>27442</td>\n",
       "      <td>...</td>\n",
       "      <td>0</td>\n",
       "      <td>0</td>\n",
       "      <td>0</td>\n",
       "      <td>1.0</td>\n",
       "      <td>0.0</td>\n",
       "      <td>0.0</td>\n",
       "      <td>0.0</td>\n",
       "      <td>0.0</td>\n",
       "      <td>-1.079390</td>\n",
       "      <td>2.958509</td>\n",
       "    </tr>\n",
       "    <tr>\n",
       "      <th>1</th>\n",
       "      <td>7316380095</td>\n",
       "      <td>https://newjersey.craigslist.org/ctd/d/carlsta...</td>\n",
       "      <td>north jersey</td>\n",
       "      <td>https://newjersey.craigslist.org</td>\n",
       "      <td>16942</td>\n",
       "      <td>2016</td>\n",
       "      <td>ford</td>\n",
       "      <td>explorer 4wd 4dr xlt</td>\n",
       "      <td>other</td>\n",
       "      <td>60023</td>\n",
       "      <td>...</td>\n",
       "      <td>0</td>\n",
       "      <td>0</td>\n",
       "      <td>0</td>\n",
       "      <td>0.0</td>\n",
       "      <td>0.0</td>\n",
       "      <td>0.0</td>\n",
       "      <td>0.0</td>\n",
       "      <td>1.0</td>\n",
       "      <td>-0.560115</td>\n",
       "      <td>-0.085826</td>\n",
       "    </tr>\n",
       "    <tr>\n",
       "      <th>2</th>\n",
       "      <td>7313733749</td>\n",
       "      <td>https://reno.craigslist.org/ctd/d/atlanta-2017...</td>\n",
       "      <td>reno / tahoe</td>\n",
       "      <td>https://reno.craigslist.org</td>\n",
       "      <td>35590</td>\n",
       "      <td>2017</td>\n",
       "      <td>volkswagen</td>\n",
       "      <td>golf r hatchback</td>\n",
       "      <td>gas</td>\n",
       "      <td>14048</td>\n",
       "      <td>...</td>\n",
       "      <td>0</td>\n",
       "      <td>0</td>\n",
       "      <td>0</td>\n",
       "      <td>0.0</td>\n",
       "      <td>0.0</td>\n",
       "      <td>1.0</td>\n",
       "      <td>0.0</td>\n",
       "      <td>0.0</td>\n",
       "      <td>-1.292863</td>\n",
       "      <td>1.406256</td>\n",
       "    </tr>\n",
       "    <tr>\n",
       "      <th>3</th>\n",
       "      <td>7308210929</td>\n",
       "      <td>https://fayetteville.craigslist.org/ctd/d/rale...</td>\n",
       "      <td>fayetteville</td>\n",
       "      <td>https://fayetteville.craigslist.org</td>\n",
       "      <td>14500</td>\n",
       "      <td>2013</td>\n",
       "      <td>toyota</td>\n",
       "      <td>rav4</td>\n",
       "      <td>gas</td>\n",
       "      <td>117291</td>\n",
       "      <td>...</td>\n",
       "      <td>0</td>\n",
       "      <td>0</td>\n",
       "      <td>0</td>\n",
       "      <td>0.0</td>\n",
       "      <td>0.0</td>\n",
       "      <td>1.0</td>\n",
       "      <td>0.0</td>\n",
       "      <td>0.0</td>\n",
       "      <td>0.352621</td>\n",
       "      <td>-0.281218</td>\n",
       "    </tr>\n",
       "    <tr>\n",
       "      <th>4</th>\n",
       "      <td>7303797340</td>\n",
       "      <td>https://knoxville.craigslist.org/ctd/d/knoxvil...</td>\n",
       "      <td>knoxville</td>\n",
       "      <td>https://knoxville.craigslist.org</td>\n",
       "      <td>14590</td>\n",
       "      <td>2012</td>\n",
       "      <td>bmw</td>\n",
       "      <td>1 series 128i coupe 2d</td>\n",
       "      <td>other</td>\n",
       "      <td>80465</td>\n",
       "      <td>...</td>\n",
       "      <td>0</td>\n",
       "      <td>0</td>\n",
       "      <td>0</td>\n",
       "      <td>0.0</td>\n",
       "      <td>0.0</td>\n",
       "      <td>0.0</td>\n",
       "      <td>0.0</td>\n",
       "      <td>1.0</td>\n",
       "      <td>-0.234311</td>\n",
       "      <td>-0.274017</td>\n",
       "    </tr>\n",
       "  </tbody>\n",
       "</table>\n",
       "<p>5 rows × 45 columns</p>\n",
       "</div>"
      ],
      "text/plain": [
       "           id                                                url  \\\n",
       "0  7308295377  https://chattanooga.craigslist.org/ctd/d/chatt...   \n",
       "1  7316380095  https://newjersey.craigslist.org/ctd/d/carlsta...   \n",
       "2  7313733749  https://reno.craigslist.org/ctd/d/atlanta-2017...   \n",
       "3  7308210929  https://fayetteville.craigslist.org/ctd/d/rale...   \n",
       "4  7303797340  https://knoxville.craigslist.org/ctd/d/knoxvil...   \n",
       "\n",
       "         region                           region_url  price  year  \\\n",
       "0   chattanooga   https://chattanooga.craigslist.org  54990  2020   \n",
       "1  north jersey     https://newjersey.craigslist.org  16942  2016   \n",
       "2  reno / tahoe          https://reno.craigslist.org  35590  2017   \n",
       "3  fayetteville  https://fayetteville.craigslist.org  14500  2013   \n",
       "4     knoxville     https://knoxville.craigslist.org  14590  2012   \n",
       "\n",
       "  manufacturer                   model    fuel  odometer  ... is_jeep  \\\n",
       "0          ram  2500 crew cab big horn  diesel     27442  ...       0   \n",
       "1         ford    explorer 4wd 4dr xlt   other     60023  ...       0   \n",
       "2   volkswagen        golf r hatchback     gas     14048  ...       0   \n",
       "3       toyota                    rav4     gas    117291  ...       0   \n",
       "4          bmw  1 series 128i coupe 2d   other     80465  ...       0   \n",
       "\n",
       "  is_honda is_nissan x0_diesel x0_electric  x0_gas  x0_hybrid x0_other  \\\n",
       "0        0         0       1.0         0.0     0.0        0.0      0.0   \n",
       "1        0         0       0.0         0.0     0.0        0.0      1.0   \n",
       "2        0         0       0.0         0.0     1.0        0.0      0.0   \n",
       "3        0         0       0.0         0.0     1.0        0.0      0.0   \n",
       "4        0         0       0.0         0.0     0.0        0.0      1.0   \n",
       "\n",
       "  std_scaled_odometer std_scaled_price  \n",
       "0           -1.079390         2.958509  \n",
       "1           -0.560115        -0.085826  \n",
       "2           -1.292863         1.406256  \n",
       "3            0.352621        -0.281218  \n",
       "4           -0.234311        -0.274017  \n",
       "\n",
       "[5 rows x 45 columns]"
      ]
     },
     "execution_count": 2,
     "metadata": {},
     "output_type": "execute_result"
    }
   ],
   "source": [
    "df = pd.read_csv('data/vehicles_dataset_upd6.csv')\n",
    "df.head(5)"
   ]
  },
  {
   "cell_type": "code",
   "execution_count": 3,
   "id": "ae5611f0",
   "metadata": {},
   "outputs": [
    {
     "data": {
      "text/plain": [
       "(9619, 45)"
      ]
     },
     "execution_count": 3,
     "metadata": {},
     "output_type": "execute_result"
    }
   ],
   "source": [
    "df.shape"
   ]
  },
  {
   "cell_type": "markdown",
   "id": "cdcf0565",
   "metadata": {},
   "source": [
    "Выведем список значений и количество уникальных значений для модели автомобиля."
   ]
  },
  {
   "cell_type": "code",
   "execution_count": 4,
   "id": "3068f573",
   "metadata": {},
   "outputs": [
    {
     "data": {
      "text/plain": [
       "array(['2500 crew cab big horn', 'explorer 4wd 4dr xlt',\n",
       "       'golf r hatchback', ..., 'gs350', '1988 Nisan',\n",
       "       'a3 2.0t premium plus pzev'], dtype=object)"
      ]
     },
     "execution_count": 4,
     "metadata": {},
     "output_type": "execute_result"
    }
   ],
   "source": [
    "df.model.unique()"
   ]
  },
  {
   "cell_type": "code",
   "execution_count": 5,
   "id": "60b71e5a",
   "metadata": {},
   "outputs": [
    {
     "data": {
      "text/plain": [
       "['golf', 'r', 'hatchback']"
      ]
     },
     "execution_count": 5,
     "metadata": {},
     "output_type": "execute_result"
    }
   ],
   "source": [
    "df.model[2].split(' ')"
   ]
  },
  {
   "cell_type": "code",
   "execution_count": 6,
   "id": "c59ebb8d",
   "metadata": {},
   "outputs": [
    {
     "data": {
      "text/plain": [
       "3341"
      ]
     },
     "execution_count": 6,
     "metadata": {},
     "output_type": "execute_result"
    }
   ],
   "source": [
    "len(df.model.unique())"
   ]
  },
  {
   "cell_type": "code",
   "execution_count": 9,
   "id": "84c09f29",
   "metadata": {},
   "outputs": [
    {
     "data": {
      "text/plain": [
       "3341"
      ]
     },
     "execution_count": 9,
     "metadata": {},
     "output_type": "execute_result"
    }
   ],
   "source": [
    "df.model.nunique()"
   ]
  },
  {
   "cell_type": "markdown",
   "id": "adbd6ea1",
   "metadata": {},
   "source": [
    "Количество уникальных значений велико. Попробуем их сократить, оставив только первое слово в наименовании модели. С помощью lambda-функции и преобразования над строками создайте новый признак short_model, содержащий только первое слово из наименования модели, выведите его и количество получившихся уникальных значений."
   ]
  },
  {
   "cell_type": "code",
   "execution_count": 8,
   "id": "3536a17f",
   "metadata": {},
   "outputs": [
    {
     "data": {
      "text/plain": [
       "0           2500\n",
       "1       explorer\n",
       "2           golf\n",
       "3           rav4\n",
       "4              1\n",
       "          ...   \n",
       "9614        rav4\n",
       "9615    wrangler\n",
       "9616          a3\n",
       "9617     cayenne\n",
       "9618        1500\n",
       "Name: short_model, Length: 9619, dtype: object"
      ]
     },
     "execution_count": 8,
     "metadata": {},
     "output_type": "execute_result"
    }
   ],
   "source": [
    "df['short_model'] = df.model.apply(lambda x: x.split(' ')[0])\n",
    "df['short_model']"
   ]
  },
  {
   "cell_type": "code",
   "execution_count": 10,
   "id": "e66b0618",
   "metadata": {},
   "outputs": [
    {
     "data": {
      "text/plain": [
       "943"
      ]
     },
     "execution_count": 10,
     "metadata": {},
     "output_type": "execute_result"
    }
   ],
   "source": [
    "df.short_model.nunique()"
   ]
  },
  {
   "cell_type": "markdown",
   "id": "16b8e515",
   "metadata": {},
   "source": [
    "### Преобразование категориальных переменных\n",
    "\n",
    "1. Для категориальных переменных `short_model`, `transmission`, `region`, `manufacturer`, `state`, `title_status`, `age_category` распечатаем наименование категории и количество уникальных значений в ней."
   ]
  },
  {
   "cell_type": "code",
   "execution_count": 11,
   "id": "1d7af773",
   "metadata": {},
   "outputs": [
    {
     "data": {
      "text/plain": [
       "array(['new', 'average', 'old'], dtype=object)"
      ]
     },
     "execution_count": 11,
     "metadata": {},
     "output_type": "execute_result"
    }
   ],
   "source": [
    "df.age_category.unique()"
   ]
  },
  {
   "cell_type": "code",
   "execution_count": 16,
   "id": "8d1dade7",
   "metadata": {},
   "outputs": [
    {
     "data": {
      "text/plain": [
       "transmission      3\n",
       "region          393\n",
       "manufacturer     40\n",
       "state            51\n",
       "title_status      6\n",
       "age_category      3\n",
       "dtype: int64"
      ]
     },
     "execution_count": 16,
     "metadata": {},
     "output_type": "execute_result"
    }
   ],
   "source": [
    "df[['transmission', 'region', 'manufacturer', 'state', 'title_status', 'age_category']].nunique()"
   ]
  },
  {
   "cell_type": "markdown",
   "id": "8aa7405b",
   "metadata": {},
   "source": [
    "Создадим датафрейм `data`, содержащий только выбранные категориальные переменные."
   ]
  },
  {
   "cell_type": "code",
   "execution_count": 14,
   "id": "e3324211",
   "metadata": {},
   "outputs": [],
   "source": [
    "data2 = pd.DataFrame()"
   ]
  },
  {
   "cell_type": "code",
   "execution_count": 17,
   "id": "c2e5a707",
   "metadata": {},
   "outputs": [
    {
     "data": {
      "text/html": [
       "<div>\n",
       "<style scoped>\n",
       "    .dataframe tbody tr th:only-of-type {\n",
       "        vertical-align: middle;\n",
       "    }\n",
       "\n",
       "    .dataframe tbody tr th {\n",
       "        vertical-align: top;\n",
       "    }\n",
       "\n",
       "    .dataframe thead th {\n",
       "        text-align: right;\n",
       "    }\n",
       "</style>\n",
       "<table border=\"1\" class=\"dataframe\">\n",
       "  <thead>\n",
       "    <tr style=\"text-align: right;\">\n",
       "      <th></th>\n",
       "      <th>transmission</th>\n",
       "      <th>region</th>\n",
       "      <th>manufacturer</th>\n",
       "      <th>state</th>\n",
       "      <th>title_status</th>\n",
       "      <th>age_category</th>\n",
       "    </tr>\n",
       "  </thead>\n",
       "  <tbody>\n",
       "    <tr>\n",
       "      <th>0</th>\n",
       "      <td>other</td>\n",
       "      <td>chattanooga</td>\n",
       "      <td>ram</td>\n",
       "      <td>tn</td>\n",
       "      <td>clean</td>\n",
       "      <td>new</td>\n",
       "    </tr>\n",
       "    <tr>\n",
       "      <th>1</th>\n",
       "      <td>automatic</td>\n",
       "      <td>north jersey</td>\n",
       "      <td>ford</td>\n",
       "      <td>nj</td>\n",
       "      <td>clean</td>\n",
       "      <td>new</td>\n",
       "    </tr>\n",
       "    <tr>\n",
       "      <th>2</th>\n",
       "      <td>other</td>\n",
       "      <td>reno / tahoe</td>\n",
       "      <td>volkswagen</td>\n",
       "      <td>ca</td>\n",
       "      <td>clean</td>\n",
       "      <td>new</td>\n",
       "    </tr>\n",
       "    <tr>\n",
       "      <th>3</th>\n",
       "      <td>automatic</td>\n",
       "      <td>fayetteville</td>\n",
       "      <td>toyota</td>\n",
       "      <td>nc</td>\n",
       "      <td>clean</td>\n",
       "      <td>average</td>\n",
       "    </tr>\n",
       "    <tr>\n",
       "      <th>4</th>\n",
       "      <td>other</td>\n",
       "      <td>knoxville</td>\n",
       "      <td>bmw</td>\n",
       "      <td>tn</td>\n",
       "      <td>clean</td>\n",
       "      <td>average</td>\n",
       "    </tr>\n",
       "  </tbody>\n",
       "</table>\n",
       "</div>"
      ],
      "text/plain": [
       "  transmission        region manufacturer state title_status age_category\n",
       "0        other   chattanooga          ram    tn        clean          new\n",
       "1    automatic  north jersey         ford    nj        clean          new\n",
       "2        other  reno / tahoe   volkswagen    ca        clean          new\n",
       "3    automatic  fayetteville       toyota    nc        clean      average\n",
       "4        other     knoxville          bmw    tn        clean      average"
      ]
     },
     "execution_count": 17,
     "metadata": {},
     "output_type": "execute_result"
    }
   ],
   "source": [
    "data2 = df[['transmission', 'region', 'manufacturer', 'state', 'title_status', 'age_category']]\n",
    "data2.head(5)"
   ]
  },
  {
   "cell_type": "markdown",
   "id": "dbe3df49",
   "metadata": {},
   "source": [
    "Создим объект класса OneHotEncoder, который будет отвечать за преобразование. Уточним, что на выходе должна быть неразреженная матрица."
   ]
  },
  {
   "cell_type": "code",
   "execution_count": 21,
   "id": "24d3ff29",
   "metadata": {},
   "outputs": [
    {
     "data": {
      "text/plain": [
       "128"
      ]
     },
     "execution_count": 21,
     "metadata": {},
     "output_type": "execute_result"
    }
   ],
   "source": [
    "8*16"
   ]
  },
  {
   "cell_type": "code",
   "execution_count": 18,
   "id": "40530a16",
   "metadata": {},
   "outputs": [
    {
     "data": {
      "text/plain": [
       "OneHotEncoder(sparse=False)"
      ]
     },
     "execution_count": 18,
     "metadata": {},
     "output_type": "execute_result"
    }
   ],
   "source": [
    "ohe = OneHotEncoder(sparse=False)\n",
    "ohe"
   ]
  },
  {
   "cell_type": "markdown",
   "id": "4a149ddc",
   "metadata": {},
   "source": [
    "Идентифицируем параметры преобразования на датафрейме с категориальными переменными."
   ]
  },
  {
   "cell_type": "code",
   "execution_count": 20,
   "id": "1a444e50",
   "metadata": {},
   "outputs": [
    {
     "name": "stdout",
     "output_type": "stream",
     "text": [
      "40\n",
      "9619\n"
     ]
    }
   ],
   "source": [
    "print(len(data2.manufacturer.unique()))\n",
    "print(len(data2.manufacturer))"
   ]
  },
  {
   "cell_type": "code",
   "execution_count": 22,
   "id": "c22e253a",
   "metadata": {},
   "outputs": [
    {
     "data": {
      "text/plain": [
       "OneHotEncoder(sparse=False)"
      ]
     },
     "execution_count": 22,
     "metadata": {},
     "output_type": "execute_result"
    }
   ],
   "source": [
    "ohe.fit(data2[['transmission','region','manufacturer','state','title_status','age_category']])"
   ]
  },
  {
   "cell_type": "markdown",
   "id": "7a29227a",
   "metadata": {},
   "source": [
    "Применим преобразование для датафрейма с категориальными переменными и сохраните в новую переменную, распечатаем получившуюся матрицу и её размерность."
   ]
  },
  {
   "cell_type": "code",
   "execution_count": 23,
   "id": "441b3bf2",
   "metadata": {},
   "outputs": [
    {
     "data": {
      "text/plain": [
       "array([[0., 0., 1., ..., 0., 1., 0.],\n",
       "       [1., 0., 0., ..., 0., 1., 0.],\n",
       "       [0., 0., 1., ..., 0., 1., 0.],\n",
       "       ...,\n",
       "       [1., 0., 0., ..., 1., 0., 0.],\n",
       "       [1., 0., 0., ..., 0., 1., 0.],\n",
       "       [0., 0., 1., ..., 0., 1., 0.]])"
      ]
     },
     "execution_count": 23,
     "metadata": {},
     "output_type": "execute_result"
    }
   ],
   "source": [
    "ohe_model = ohe.transform(data2[[ 'transmission','region','manufacturer','state','title_status','age_category']])\n",
    "ohe_model"
   ]
  },
  {
   "cell_type": "markdown",
   "id": "2994a11b",
   "metadata": {},
   "source": [
    "Выведем новые наименования признаков с помощью метода get_feature_names_out"
   ]
  },
  {
   "cell_type": "code",
   "execution_count": 24,
   "id": "36ad28d2",
   "metadata": {},
   "outputs": [
    {
     "data": {
      "text/plain": [
       "array([['other', 'chattanooga', 'ram', 'tn', 'clean', 'new'],\n",
       "       ['automatic', 'north jersey', 'ford', 'nj', 'clean', 'new'],\n",
       "       ['other', 'reno / tahoe', 'volkswagen', 'ca', 'clean', 'new'],\n",
       "       ...,\n",
       "       ['automatic', 'salem', 'audi', 'or', 'clean', 'average'],\n",
       "       ['automatic', 'madison', 'porsche', 'wi', 'clean', 'new'],\n",
       "       ['other', 'norfolk / hampton roads', 'ram', 'va', 'clean', 'new']],\n",
       "      dtype=object)"
      ]
     },
     "execution_count": 24,
     "metadata": {},
     "output_type": "execute_result"
    }
   ],
   "source": [
    "(ohe.inverse_transform(ohe_model))"
   ]
  },
  {
   "cell_type": "code",
   "execution_count": 26,
   "id": "b98503dc",
   "metadata": {},
   "outputs": [
    {
     "data": {
      "text/plain": [
       "496"
      ]
     },
     "execution_count": 26,
     "metadata": {},
     "output_type": "execute_result"
    }
   ],
   "source": [
    "len(ohe.get_feature_names())"
   ]
  },
  {
   "cell_type": "code",
   "execution_count": 25,
   "id": "bc64d043",
   "metadata": {},
   "outputs": [
    {
     "data": {
      "text/plain": [
       "array(['x0_automatic', 'x0_manual', 'x0_other', 'x1_SF bay area',\n",
       "       'x1_abilene', 'x1_akron / canton', 'x1_albany', 'x1_albuquerque',\n",
       "       'x1_altoona-johnstown', 'x1_amarillo', 'x1_ames',\n",
       "       'x1_anchorage / mat-su', 'x1_ann arbor', 'x1_annapolis',\n",
       "       'x1_appleton-oshkosh-FDL', 'x1_asheville', 'x1_ashtabula',\n",
       "       'x1_athens', 'x1_atlanta', 'x1_auburn', 'x1_augusta', 'x1_austin',\n",
       "       'x1_bakersfield', 'x1_baltimore', 'x1_baton rouge',\n",
       "       'x1_battle creek', 'x1_beaumont / port arthur', 'x1_bellingham',\n",
       "       'x1_bemidji', 'x1_bend', 'x1_billings', 'x1_binghamton',\n",
       "       'x1_birmingham', 'x1_bismarck', 'x1_bloomington',\n",
       "       'x1_bloomington-normal', 'x1_boise', 'x1_boone', 'x1_boston',\n",
       "       'x1_boulder', 'x1_bowling green', 'x1_bozeman', 'x1_brainerd',\n",
       "       'x1_brownsville', 'x1_brunswick', 'x1_buffalo', 'x1_butte',\n",
       "       'x1_cape cod / islands', 'x1_catskills', 'x1_cedar rapids',\n",
       "       'x1_central NJ', 'x1_central louisiana', 'x1_central michigan',\n",
       "       'x1_champaign urbana', 'x1_charleston', 'x1_charlotte',\n",
       "       'x1_charlottesville', 'x1_chattanooga', 'x1_chautauqua',\n",
       "       'x1_chicago', 'x1_chico', 'x1_chillicothe', 'x1_cincinnati',\n",
       "       'x1_clarksville', 'x1_cleveland', 'x1_clovis / portales',\n",
       "       'x1_college station', 'x1_colorado springs', 'x1_columbia',\n",
       "       'x1_columbia / jeff city', 'x1_columbus', 'x1_corpus christi',\n",
       "       'x1_corvallis/albany', 'x1_cumberland valley',\n",
       "       'x1_dallas / fort worth', 'x1_danville', 'x1_dayton / springfield',\n",
       "       'x1_daytona beach', 'x1_decatur', 'x1_del rio / eagle pass',\n",
       "       'x1_delaware', 'x1_denver', 'x1_des moines', 'x1_detroit metro',\n",
       "       'x1_dothan', 'x1_dubuque', 'x1_duluth / superior', 'x1_east idaho',\n",
       "       'x1_east oregon', 'x1_eastern CO', 'x1_eastern CT',\n",
       "       'x1_eastern NC', 'x1_eastern kentucky', 'x1_eastern montana',\n",
       "       'x1_eastern panhandle', 'x1_eastern shore', 'x1_eau claire',\n",
       "       'x1_el paso', 'x1_elko', 'x1_elmira-corning', 'x1_erie',\n",
       "       'x1_eugene', 'x1_evansville', 'x1_fairbanks',\n",
       "       'x1_fargo / moorhead', 'x1_farmington', 'x1_fayetteville',\n",
       "       'x1_finger lakes', 'x1_flagstaff / sedona', 'x1_flint',\n",
       "       'x1_florence', 'x1_florence / muscle shoals', 'x1_florida keys',\n",
       "       'x1_fort collins / north CO', 'x1_fort dodge', 'x1_fort smith',\n",
       "       'x1_fort wayne', 'x1_frederick', 'x1_fredericksburg',\n",
       "       'x1_fresno / madera', 'x1_ft myers / SW florida',\n",
       "       'x1_gadsden-anniston', 'x1_gainesville', 'x1_galveston',\n",
       "       'x1_glens falls', 'x1_gold country', 'x1_grand forks',\n",
       "       'x1_grand island', 'x1_grand rapids', 'x1_great falls',\n",
       "       'x1_green bay', 'x1_greensboro', 'x1_greenville / upstate',\n",
       "       'x1_gulfport / biloxi', 'x1_hanford-corcoran', 'x1_harrisburg',\n",
       "       'x1_harrisonburg', 'x1_hartford', 'x1_hattiesburg', 'x1_hawaii',\n",
       "       'x1_heartland florida', 'x1_helena', 'x1_hickory / lenoir',\n",
       "       'x1_high rockies', 'x1_hilton head', 'x1_holland', 'x1_houma',\n",
       "       'x1_houston', 'x1_hudson valley', 'x1_humboldt county',\n",
       "       'x1_huntington-ashland', 'x1_huntsville / decatur',\n",
       "       'x1_imperial county', 'x1_indianapolis', 'x1_inland empire',\n",
       "       'x1_iowa city', 'x1_ithaca', 'x1_jackson', 'x1_jacksonville',\n",
       "       'x1_janesville', 'x1_jersey shore', 'x1_jonesboro', 'x1_joplin',\n",
       "       'x1_kalamazoo', 'x1_kalispell', 'x1_kansas city, MO',\n",
       "       'x1_kenai peninsula', 'x1_kennewick-pasco-richland',\n",
       "       'x1_kenosha-racine', 'x1_killeen / temple / ft hood',\n",
       "       'x1_kirksville', 'x1_klamath falls', 'x1_knoxville', 'x1_kokomo',\n",
       "       'x1_la crosse', 'x1_la salle co', 'x1_lafayette',\n",
       "       'x1_lafayette / west lafayette', 'x1_lake charles',\n",
       "       'x1_lake of the ozarks', 'x1_lakeland', 'x1_lancaster',\n",
       "       'x1_lansing', 'x1_laredo', 'x1_las cruces', 'x1_las vegas',\n",
       "       'x1_lawrence', 'x1_lawton', 'x1_lehigh valley',\n",
       "       'x1_lewiston / clarkston', 'x1_lexington', 'x1_lima / findlay',\n",
       "       'x1_lincoln', 'x1_little rock', 'x1_logan', 'x1_long island',\n",
       "       'x1_los angeles', 'x1_louisville', 'x1_lubbock', 'x1_lynchburg',\n",
       "       'x1_macon / warner robins', 'x1_madison', 'x1_maine',\n",
       "       'x1_manhattan', 'x1_mankato', 'x1_mansfield', 'x1_mason city',\n",
       "       'x1_mattoon-charleston', 'x1_mcallen / edinburg', 'x1_meadville',\n",
       "       'x1_medford-ashland', 'x1_memphis', 'x1_mendocino county',\n",
       "       'x1_merced', 'x1_milwaukee', 'x1_minneapolis / st paul',\n",
       "       'x1_missoula', 'x1_mobile', 'x1_modesto', 'x1_mohave county',\n",
       "       'x1_monroe', 'x1_monterey bay', 'x1_montgomery', 'x1_morgantown',\n",
       "       'x1_moses lake', 'x1_muncie / anderson', 'x1_muskegon',\n",
       "       'x1_myrtle beach', 'x1_nashville', 'x1_new hampshire',\n",
       "       'x1_new haven', 'x1_new orleans', 'x1_new river valley',\n",
       "       'x1_new york city', 'x1_norfolk / hampton roads',\n",
       "       'x1_north central FL', 'x1_north dakota', 'x1_north jersey',\n",
       "       'x1_north mississippi', 'x1_north platte', 'x1_northeast SD',\n",
       "       'x1_northern WI', 'x1_northern michigan', 'x1_northern panhandle',\n",
       "       'x1_northwest CT', 'x1_northwest GA', 'x1_northwest KS',\n",
       "       'x1_northwest OK', 'x1_ocala', 'x1_odessa / midland',\n",
       "       'x1_ogden-clearfield', 'x1_okaloosa / walton', 'x1_oklahoma city',\n",
       "       'x1_olympic peninsula', 'x1_omaha / council bluffs', 'x1_oneonta',\n",
       "       'x1_orange county', 'x1_oregon coast', 'x1_orlando',\n",
       "       'x1_outer banks', 'x1_owensboro', 'x1_palm springs',\n",
       "       'x1_panama city', 'x1_parkersburg-marietta', 'x1_pensacola',\n",
       "       'x1_peoria', 'x1_philadelphia', 'x1_phoenix',\n",
       "       'x1_pierre / central SD', 'x1_pittsburgh',\n",
       "       'x1_plattsburgh-adirondacks', 'x1_poconos', 'x1_port huron',\n",
       "       'x1_portland', 'x1_potsdam-canton-massena', 'x1_prescott',\n",
       "       'x1_pueblo', 'x1_pullman / moscow', 'x1_quad cities, IA/IL',\n",
       "       'x1_raleigh / durham / CH', 'x1_rapid city / west SD',\n",
       "       'x1_reading', 'x1_redding', 'x1_reno / tahoe', 'x1_rhode island',\n",
       "       'x1_richmond', 'x1_roanoke', 'x1_rochester', 'x1_rockford',\n",
       "       'x1_roseburg', 'x1_roswell / carlsbad', 'x1_sacramento',\n",
       "       'x1_saginaw-midland-baycity', 'x1_salem', 'x1_salina',\n",
       "       'x1_salt lake city', 'x1_san angelo', 'x1_san antonio',\n",
       "       'x1_san diego', 'x1_san luis obispo', 'x1_san marcos',\n",
       "       'x1_sandusky', 'x1_santa barbara', 'x1_santa fe / taos',\n",
       "       'x1_santa maria', 'x1_sarasota-bradenton',\n",
       "       'x1_savannah / hinesville', 'x1_scottsbluff / panhandle',\n",
       "       'x1_scranton / wilkes-barre', 'x1_seattle-tacoma', 'x1_sheboygan',\n",
       "       'x1_show low', 'x1_shreveport', 'x1_sierra vista', 'x1_sioux city',\n",
       "       'x1_sioux falls / SE SD', 'x1_siskiyou county',\n",
       "       'x1_skagit / island / SJI', 'x1_south bend / michiana',\n",
       "       'x1_south coast', 'x1_south dakota', 'x1_south florida',\n",
       "       'x1_south jersey', 'x1_southeast IA', 'x1_southeast alaska',\n",
       "       'x1_southeast missouri', 'x1_southern WV', 'x1_southern illinois',\n",
       "       'x1_southern maryland', 'x1_southwest KS', 'x1_southwest MN',\n",
       "       'x1_southwest MS', 'x1_southwest VA', 'x1_southwest michigan',\n",
       "       'x1_space coast', \"x1_spokane / coeur d'alene\", 'x1_springfield',\n",
       "       'x1_st augustine', 'x1_st cloud', 'x1_st george', 'x1_st joseph',\n",
       "       'x1_st louis, MO', 'x1_state college', 'x1_statesboro',\n",
       "       'x1_stillwater', 'x1_stockton', 'x1_susanville', 'x1_syracuse',\n",
       "       'x1_tallahassee', 'x1_tampa bay area', 'x1_terre haute',\n",
       "       'x1_texarkana', 'x1_texoma', 'x1_the thumb', 'x1_toledo',\n",
       "       'x1_topeka', 'x1_treasure coast', 'x1_tri-cities', 'x1_tucson',\n",
       "       'x1_tulsa', 'x1_tuscaloosa', 'x1_tuscarawas co', 'x1_twin falls',\n",
       "       'x1_twin tiers NY/PA', 'x1_tyler / east TX', 'x1_upper peninsula',\n",
       "       'x1_utica-rome-oneida', 'x1_valdosta', 'x1_ventura county',\n",
       "       'x1_vermont', 'x1_victoria', 'x1_visalia-tulare', 'x1_waco',\n",
       "       'x1_washington, DC', 'x1_waterloo / cedar falls', 'x1_watertown',\n",
       "       'x1_wausau', 'x1_wenatchee', 'x1_western KY',\n",
       "       'x1_western maryland', 'x1_western massachusetts',\n",
       "       'x1_western slope', 'x1_wichita', 'x1_wichita falls',\n",
       "       'x1_williamsport', 'x1_wilmington', 'x1_winchester',\n",
       "       'x1_winston-salem', 'x1_worcester / central MA', 'x1_wyoming',\n",
       "       'x1_yakima', 'x1_york', 'x1_youngstown', 'x1_yuba-sutter',\n",
       "       'x1_yuma', 'x1_zanesville / cambridge', 'x2_acura',\n",
       "       'x2_alfa-romeo', 'x2_audi', 'x2_bmw', 'x2_buick', 'x2_cadillac',\n",
       "       'x2_chevrolet', 'x2_chrysler', 'x2_datsun', 'x2_dodge',\n",
       "       'x2_ferrari', 'x2_fiat', 'x2_ford', 'x2_gmc', 'x2_harley-davidson',\n",
       "       'x2_honda', 'x2_hyundai', 'x2_infiniti', 'x2_jaguar', 'x2_jeep',\n",
       "       'x2_kia', 'x2_lexus', 'x2_lincoln', 'x2_mazda', 'x2_mercedes-benz',\n",
       "       'x2_mercury', 'x2_mini', 'x2_mitsubishi', 'x2_nissan', 'x2_other',\n",
       "       'x2_pontiac', 'x2_porsche', 'x2_ram', 'x2_rover', 'x2_saturn',\n",
       "       'x2_subaru', 'x2_tesla', 'x2_toyota', 'x2_volkswagen', 'x2_volvo',\n",
       "       'x3_ak', 'x3_al', 'x3_ar', 'x3_az', 'x3_ca', 'x3_co', 'x3_ct',\n",
       "       'x3_dc', 'x3_de', 'x3_fl', 'x3_ga', 'x3_hi', 'x3_ia', 'x3_id',\n",
       "       'x3_il', 'x3_in', 'x3_ks', 'x3_ky', 'x3_la', 'x3_ma', 'x3_md',\n",
       "       'x3_me', 'x3_mi', 'x3_mn', 'x3_mo', 'x3_ms', 'x3_mt', 'x3_nc',\n",
       "       'x3_nd', 'x3_ne', 'x3_nh', 'x3_nj', 'x3_nm', 'x3_nv', 'x3_ny',\n",
       "       'x3_oh', 'x3_ok', 'x3_or', 'x3_pa', 'x3_ri', 'x3_sc', 'x3_sd',\n",
       "       'x3_tn', 'x3_tx', 'x3_ut', 'x3_va', 'x3_vt', 'x3_wa', 'x3_wi',\n",
       "       'x3_wv', 'x3_wy', 'x4_clean', 'x4_lien', 'x4_missing',\n",
       "       'x4_parts only', 'x4_rebuilt', 'x4_salvage', 'x5_average',\n",
       "       'x5_new', 'x5_old'], dtype=object)"
      ]
     },
     "execution_count": 25,
     "metadata": {},
     "output_type": "execute_result"
    }
   ],
   "source": [
    "ohe.get_feature_names()"
   ]
  },
  {
   "cell_type": "markdown",
   "id": "6abaaa3b",
   "metadata": {},
   "source": [
    "Добавим в исходный датафрейм получившиеся новые признаки, выведите первые 5 записей датафрейма и список колонок"
   ]
  },
  {
   "cell_type": "code",
   "execution_count": 27,
   "id": "53dfe6e3",
   "metadata": {},
   "outputs": [
    {
     "name": "stderr",
     "output_type": "stream",
     "text": [
      "C:\\Users\\STUDENT\\AppData\\Roaming\\Python\\Python38\\site-packages\\pandas\\core\\frame.py:3673: SettingWithCopyWarning: \n",
      "A value is trying to be set on a copy of a slice from a DataFrame.\n",
      "Try using .loc[row_indexer,col_indexer] = value instead\n",
      "\n",
      "See the caveats in the documentation: https://pandas.pydata.org/pandas-docs/stable/user_guide/indexing.html#returning-a-view-versus-a-copy\n",
      "  self[col] = igetitem(value, i)\n",
      "C:\\Users\\STUDENT\\AppData\\Roaming\\Python\\Python38\\site-packages\\pandas\\core\\frame.py:3673: PerformanceWarning: DataFrame is highly fragmented.  This is usually the result of calling `frame.insert` many times, which has poor performance.  Consider using pd.concat instead.  To get a de-fragmented frame, use `newframe = frame.copy()`\n",
      "  self[col] = igetitem(value, i)\n"
     ]
    },
    {
     "data": {
      "text/html": [
       "<div>\n",
       "<style scoped>\n",
       "    .dataframe tbody tr th:only-of-type {\n",
       "        vertical-align: middle;\n",
       "    }\n",
       "\n",
       "    .dataframe tbody tr th {\n",
       "        vertical-align: top;\n",
       "    }\n",
       "\n",
       "    .dataframe thead th {\n",
       "        text-align: right;\n",
       "    }\n",
       "</style>\n",
       "<table border=\"1\" class=\"dataframe\">\n",
       "  <thead>\n",
       "    <tr style=\"text-align: right;\">\n",
       "      <th></th>\n",
       "      <th>transmission</th>\n",
       "      <th>region</th>\n",
       "      <th>manufacturer</th>\n",
       "      <th>state</th>\n",
       "      <th>title_status</th>\n",
       "      <th>age_category</th>\n",
       "      <th>x0_automatic</th>\n",
       "      <th>x0_manual</th>\n",
       "      <th>x0_other</th>\n",
       "      <th>x1_SF bay area</th>\n",
       "      <th>...</th>\n",
       "      <th>x3_wy</th>\n",
       "      <th>x4_clean</th>\n",
       "      <th>x4_lien</th>\n",
       "      <th>x4_missing</th>\n",
       "      <th>x4_parts only</th>\n",
       "      <th>x4_rebuilt</th>\n",
       "      <th>x4_salvage</th>\n",
       "      <th>x5_average</th>\n",
       "      <th>x5_new</th>\n",
       "      <th>x5_old</th>\n",
       "    </tr>\n",
       "  </thead>\n",
       "  <tbody>\n",
       "    <tr>\n",
       "      <th>0</th>\n",
       "      <td>other</td>\n",
       "      <td>chattanooga</td>\n",
       "      <td>ram</td>\n",
       "      <td>tn</td>\n",
       "      <td>clean</td>\n",
       "      <td>new</td>\n",
       "      <td>0.0</td>\n",
       "      <td>0.0</td>\n",
       "      <td>1.0</td>\n",
       "      <td>0.0</td>\n",
       "      <td>...</td>\n",
       "      <td>0.0</td>\n",
       "      <td>1.0</td>\n",
       "      <td>0.0</td>\n",
       "      <td>0.0</td>\n",
       "      <td>0.0</td>\n",
       "      <td>0.0</td>\n",
       "      <td>0.0</td>\n",
       "      <td>0.0</td>\n",
       "      <td>1.0</td>\n",
       "      <td>0.0</td>\n",
       "    </tr>\n",
       "    <tr>\n",
       "      <th>1</th>\n",
       "      <td>automatic</td>\n",
       "      <td>north jersey</td>\n",
       "      <td>ford</td>\n",
       "      <td>nj</td>\n",
       "      <td>clean</td>\n",
       "      <td>new</td>\n",
       "      <td>1.0</td>\n",
       "      <td>0.0</td>\n",
       "      <td>0.0</td>\n",
       "      <td>0.0</td>\n",
       "      <td>...</td>\n",
       "      <td>0.0</td>\n",
       "      <td>1.0</td>\n",
       "      <td>0.0</td>\n",
       "      <td>0.0</td>\n",
       "      <td>0.0</td>\n",
       "      <td>0.0</td>\n",
       "      <td>0.0</td>\n",
       "      <td>0.0</td>\n",
       "      <td>1.0</td>\n",
       "      <td>0.0</td>\n",
       "    </tr>\n",
       "    <tr>\n",
       "      <th>2</th>\n",
       "      <td>other</td>\n",
       "      <td>reno / tahoe</td>\n",
       "      <td>volkswagen</td>\n",
       "      <td>ca</td>\n",
       "      <td>clean</td>\n",
       "      <td>new</td>\n",
       "      <td>0.0</td>\n",
       "      <td>0.0</td>\n",
       "      <td>1.0</td>\n",
       "      <td>0.0</td>\n",
       "      <td>...</td>\n",
       "      <td>0.0</td>\n",
       "      <td>1.0</td>\n",
       "      <td>0.0</td>\n",
       "      <td>0.0</td>\n",
       "      <td>0.0</td>\n",
       "      <td>0.0</td>\n",
       "      <td>0.0</td>\n",
       "      <td>0.0</td>\n",
       "      <td>1.0</td>\n",
       "      <td>0.0</td>\n",
       "    </tr>\n",
       "    <tr>\n",
       "      <th>3</th>\n",
       "      <td>automatic</td>\n",
       "      <td>fayetteville</td>\n",
       "      <td>toyota</td>\n",
       "      <td>nc</td>\n",
       "      <td>clean</td>\n",
       "      <td>average</td>\n",
       "      <td>1.0</td>\n",
       "      <td>0.0</td>\n",
       "      <td>0.0</td>\n",
       "      <td>0.0</td>\n",
       "      <td>...</td>\n",
       "      <td>0.0</td>\n",
       "      <td>1.0</td>\n",
       "      <td>0.0</td>\n",
       "      <td>0.0</td>\n",
       "      <td>0.0</td>\n",
       "      <td>0.0</td>\n",
       "      <td>0.0</td>\n",
       "      <td>1.0</td>\n",
       "      <td>0.0</td>\n",
       "      <td>0.0</td>\n",
       "    </tr>\n",
       "    <tr>\n",
       "      <th>4</th>\n",
       "      <td>other</td>\n",
       "      <td>knoxville</td>\n",
       "      <td>bmw</td>\n",
       "      <td>tn</td>\n",
       "      <td>clean</td>\n",
       "      <td>average</td>\n",
       "      <td>0.0</td>\n",
       "      <td>0.0</td>\n",
       "      <td>1.0</td>\n",
       "      <td>0.0</td>\n",
       "      <td>...</td>\n",
       "      <td>0.0</td>\n",
       "      <td>1.0</td>\n",
       "      <td>0.0</td>\n",
       "      <td>0.0</td>\n",
       "      <td>0.0</td>\n",
       "      <td>0.0</td>\n",
       "      <td>0.0</td>\n",
       "      <td>1.0</td>\n",
       "      <td>0.0</td>\n",
       "      <td>0.0</td>\n",
       "    </tr>\n",
       "  </tbody>\n",
       "</table>\n",
       "<p>5 rows × 502 columns</p>\n",
       "</div>"
      ],
      "text/plain": [
       "  transmission        region manufacturer state title_status age_category  \\\n",
       "0        other   chattanooga          ram    tn        clean          new   \n",
       "1    automatic  north jersey         ford    nj        clean          new   \n",
       "2        other  reno / tahoe   volkswagen    ca        clean          new   \n",
       "3    automatic  fayetteville       toyota    nc        clean      average   \n",
       "4        other     knoxville          bmw    tn        clean      average   \n",
       "\n",
       "   x0_automatic  x0_manual  x0_other  x1_SF bay area  ...  x3_wy  x4_clean  \\\n",
       "0           0.0        0.0       1.0             0.0  ...    0.0       1.0   \n",
       "1           1.0        0.0       0.0             0.0  ...    0.0       1.0   \n",
       "2           0.0        0.0       1.0             0.0  ...    0.0       1.0   \n",
       "3           1.0        0.0       0.0             0.0  ...    0.0       1.0   \n",
       "4           0.0        0.0       1.0             0.0  ...    0.0       1.0   \n",
       "\n",
       "   x4_lien  x4_missing  x4_parts only  x4_rebuilt  x4_salvage  x5_average  \\\n",
       "0      0.0         0.0            0.0         0.0         0.0         0.0   \n",
       "1      0.0         0.0            0.0         0.0         0.0         0.0   \n",
       "2      0.0         0.0            0.0         0.0         0.0         0.0   \n",
       "3      0.0         0.0            0.0         0.0         0.0         1.0   \n",
       "4      0.0         0.0            0.0         0.0         0.0         1.0   \n",
       "\n",
       "   x5_new  x5_old  \n",
       "0     1.0     0.0  \n",
       "1     1.0     0.0  \n",
       "2     1.0     0.0  \n",
       "3     0.0     0.0  \n",
       "4     0.0     0.0  \n",
       "\n",
       "[5 rows x 502 columns]"
      ]
     },
     "execution_count": 27,
     "metadata": {},
     "output_type": "execute_result"
    }
   ],
   "source": [
    "data2[ohe.get_feature_names()] = ohe_model\n",
    "data2.head(5)"
   ]
  },
  {
   "cell_type": "markdown",
   "id": "3505932d",
   "metadata": {},
   "source": [
    "Посмотрим на результат обратного преобразования получившейся матрицы в исходные признаки, используем inverse_transform."
   ]
  },
  {
   "cell_type": "code",
   "execution_count": 28,
   "id": "ac8006d4",
   "metadata": {},
   "outputs": [
    {
     "data": {
      "text/plain": [
       "array([['other', 'chattanooga', 'ram', 'tn', 'clean', 'new'],\n",
       "       ['automatic', 'north jersey', 'ford', 'nj', 'clean', 'new'],\n",
       "       ['other', 'reno / tahoe', 'volkswagen', 'ca', 'clean', 'new'],\n",
       "       ...,\n",
       "       ['automatic', 'salem', 'audi', 'or', 'clean', 'average'],\n",
       "       ['automatic', 'madison', 'porsche', 'wi', 'clean', 'new'],\n",
       "       ['other', 'norfolk / hampton roads', 'ram', 'va', 'clean', 'new']],\n",
       "      dtype=object)"
      ]
     },
     "execution_count": 28,
     "metadata": {},
     "output_type": "execute_result"
    }
   ],
   "source": [
    "ohe.inverse_transform(ohe_model)"
   ]
  },
  {
   "cell_type": "markdown",
   "id": "c0c35e7f",
   "metadata": {},
   "source": [
    "### Стандартизация данных\n",
    "\n",
    "1. Создадим переменную под количественные переменные `lat`, `long`, `year`, `odometer/price`, `desc_len`, `model_in_desc`, `model_len`, `model_word_count` и создадим датафрейм `data`, содержащий только выбранные количественные переменные."
   ]
  },
  {
   "cell_type": "code",
   "execution_count": 29,
   "id": "fdfab57b",
   "metadata": {},
   "outputs": [
    {
     "data": {
      "text/html": [
       "<div>\n",
       "<style scoped>\n",
       "    .dataframe tbody tr th:only-of-type {\n",
       "        vertical-align: middle;\n",
       "    }\n",
       "\n",
       "    .dataframe tbody tr th {\n",
       "        vertical-align: top;\n",
       "    }\n",
       "\n",
       "    .dataframe thead th {\n",
       "        text-align: right;\n",
       "    }\n",
       "</style>\n",
       "<table border=\"1\" class=\"dataframe\">\n",
       "  <thead>\n",
       "    <tr style=\"text-align: right;\">\n",
       "      <th></th>\n",
       "      <th>lat</th>\n",
       "      <th>long</th>\n",
       "      <th>year</th>\n",
       "    </tr>\n",
       "  </thead>\n",
       "  <tbody>\n",
       "    <tr>\n",
       "      <th>0</th>\n",
       "      <td>35.060000</td>\n",
       "      <td>-85.250000</td>\n",
       "      <td>2020</td>\n",
       "    </tr>\n",
       "    <tr>\n",
       "      <th>1</th>\n",
       "      <td>40.821805</td>\n",
       "      <td>-74.061962</td>\n",
       "      <td>2016</td>\n",
       "    </tr>\n",
       "    <tr>\n",
       "      <th>2</th>\n",
       "      <td>33.779214</td>\n",
       "      <td>-84.411811</td>\n",
       "      <td>2017</td>\n",
       "    </tr>\n",
       "    <tr>\n",
       "      <th>3</th>\n",
       "      <td>35.715954</td>\n",
       "      <td>-78.655304</td>\n",
       "      <td>2013</td>\n",
       "    </tr>\n",
       "    <tr>\n",
       "      <th>4</th>\n",
       "      <td>35.970000</td>\n",
       "      <td>-83.940000</td>\n",
       "      <td>2012</td>\n",
       "    </tr>\n",
       "  </tbody>\n",
       "</table>\n",
       "</div>"
      ],
      "text/plain": [
       "         lat       long  year\n",
       "0  35.060000 -85.250000  2020\n",
       "1  40.821805 -74.061962  2016\n",
       "2  33.779214 -84.411811  2017\n",
       "3  35.715954 -78.655304  2013\n",
       "4  35.970000 -83.940000  2012"
      ]
     },
     "execution_count": 29,
     "metadata": {},
     "output_type": "execute_result"
    }
   ],
   "source": [
    "data1 = df[['lat', 'long', 'year']]\n",
    "data1.head(5)"
   ]
  },
  {
   "cell_type": "code",
   "execution_count": 30,
   "id": "8268cc55",
   "metadata": {},
   "outputs": [],
   "source": [
    "import warnings\n",
    "warnings.filterwarnings(\"ignore\")"
   ]
  },
  {
   "cell_type": "code",
   "execution_count": 31,
   "id": "4ea37602",
   "metadata": {},
   "outputs": [
    {
     "data": {
      "text/plain": [
       "0    0.499036\n",
       "1    3.542852\n",
       "2    0.394718\n",
       "3    8.089034\n",
       "4    5.515079\n",
       "Name: odometer/price, dtype: float64"
      ]
     },
     "execution_count": 31,
     "metadata": {},
     "output_type": "execute_result"
    }
   ],
   "source": [
    "data1['odometer/price'] = df['odometer'] / df['price']\n",
    "data1['odometer/price'].head(5)"
   ]
  },
  {
   "cell_type": "code",
   "execution_count": 32,
   "id": "e4b6a563",
   "metadata": {},
   "outputs": [
    {
     "data": {
      "text/html": [
       "<div>\n",
       "<style scoped>\n",
       "    .dataframe tbody tr th:only-of-type {\n",
       "        vertical-align: middle;\n",
       "    }\n",
       "\n",
       "    .dataframe tbody tr th {\n",
       "        vertical-align: top;\n",
       "    }\n",
       "\n",
       "    .dataframe thead th {\n",
       "        text-align: right;\n",
       "    }\n",
       "</style>\n",
       "<table border=\"1\" class=\"dataframe\">\n",
       "  <thead>\n",
       "    <tr style=\"text-align: right;\">\n",
       "      <th></th>\n",
       "      <th>lat</th>\n",
       "      <th>long</th>\n",
       "      <th>year</th>\n",
       "      <th>odometer/price</th>\n",
       "      <th>desc_len</th>\n",
       "    </tr>\n",
       "  </thead>\n",
       "  <tbody>\n",
       "    <tr>\n",
       "      <th>0</th>\n",
       "      <td>35.060000</td>\n",
       "      <td>-85.250000</td>\n",
       "      <td>2020</td>\n",
       "      <td>0.499036</td>\n",
       "      <td>4482</td>\n",
       "    </tr>\n",
       "    <tr>\n",
       "      <th>1</th>\n",
       "      <td>40.821805</td>\n",
       "      <td>-74.061962</td>\n",
       "      <td>2016</td>\n",
       "      <td>3.542852</td>\n",
       "      <td>968</td>\n",
       "    </tr>\n",
       "    <tr>\n",
       "      <th>2</th>\n",
       "      <td>33.779214</td>\n",
       "      <td>-84.411811</td>\n",
       "      <td>2017</td>\n",
       "      <td>0.394718</td>\n",
       "      <td>4286</td>\n",
       "    </tr>\n",
       "    <tr>\n",
       "      <th>3</th>\n",
       "      <td>35.715954</td>\n",
       "      <td>-78.655304</td>\n",
       "      <td>2013</td>\n",
       "      <td>8.089034</td>\n",
       "      <td>3241</td>\n",
       "    </tr>\n",
       "    <tr>\n",
       "      <th>4</th>\n",
       "      <td>35.970000</td>\n",
       "      <td>-83.940000</td>\n",
       "      <td>2012</td>\n",
       "      <td>5.515079</td>\n",
       "      <td>4851</td>\n",
       "    </tr>\n",
       "  </tbody>\n",
       "</table>\n",
       "</div>"
      ],
      "text/plain": [
       "         lat       long  year  odometer/price  desc_len\n",
       "0  35.060000 -85.250000  2020        0.499036      4482\n",
       "1  40.821805 -74.061962  2016        3.542852       968\n",
       "2  33.779214 -84.411811  2017        0.394718      4286\n",
       "3  35.715954 -78.655304  2013        8.089034      3241\n",
       "4  35.970000 -83.940000  2012        5.515079      4851"
      ]
     },
     "execution_count": 32,
     "metadata": {},
     "output_type": "execute_result"
    }
   ],
   "source": [
    "data1['desc_len'] = df.description.apply(lambda x: len(x))\n",
    "data1.head(5)"
   ]
  },
  {
   "cell_type": "code",
   "execution_count": 33,
   "id": "77dfec6b",
   "metadata": {},
   "outputs": [
    {
     "data": {
      "text/html": [
       "<div>\n",
       "<style scoped>\n",
       "    .dataframe tbody tr th:only-of-type {\n",
       "        vertical-align: middle;\n",
       "    }\n",
       "\n",
       "    .dataframe tbody tr th {\n",
       "        vertical-align: top;\n",
       "    }\n",
       "\n",
       "    .dataframe thead th {\n",
       "        text-align: right;\n",
       "    }\n",
       "</style>\n",
       "<table border=\"1\" class=\"dataframe\">\n",
       "  <thead>\n",
       "    <tr style=\"text-align: right;\">\n",
       "      <th></th>\n",
       "      <th>lat</th>\n",
       "      <th>long</th>\n",
       "      <th>year</th>\n",
       "      <th>odometer/price</th>\n",
       "      <th>desc_len</th>\n",
       "      <th>model_in_desc</th>\n",
       "    </tr>\n",
       "  </thead>\n",
       "  <tbody>\n",
       "    <tr>\n",
       "      <th>0</th>\n",
       "      <td>35.060000</td>\n",
       "      <td>-85.250000</td>\n",
       "      <td>2020</td>\n",
       "      <td>0.499036</td>\n",
       "      <td>4482</td>\n",
       "      <td>0</td>\n",
       "    </tr>\n",
       "    <tr>\n",
       "      <th>1</th>\n",
       "      <td>40.821805</td>\n",
       "      <td>-74.061962</td>\n",
       "      <td>2016</td>\n",
       "      <td>3.542852</td>\n",
       "      <td>968</td>\n",
       "      <td>0</td>\n",
       "    </tr>\n",
       "    <tr>\n",
       "      <th>2</th>\n",
       "      <td>33.779214</td>\n",
       "      <td>-84.411811</td>\n",
       "      <td>2017</td>\n",
       "      <td>0.394718</td>\n",
       "      <td>4286</td>\n",
       "      <td>0</td>\n",
       "    </tr>\n",
       "    <tr>\n",
       "      <th>3</th>\n",
       "      <td>35.715954</td>\n",
       "      <td>-78.655304</td>\n",
       "      <td>2013</td>\n",
       "      <td>8.089034</td>\n",
       "      <td>3241</td>\n",
       "      <td>0</td>\n",
       "    </tr>\n",
       "    <tr>\n",
       "      <th>4</th>\n",
       "      <td>35.970000</td>\n",
       "      <td>-83.940000</td>\n",
       "      <td>2012</td>\n",
       "      <td>5.515079</td>\n",
       "      <td>4851</td>\n",
       "      <td>0</td>\n",
       "    </tr>\n",
       "  </tbody>\n",
       "</table>\n",
       "</div>"
      ],
      "text/plain": [
       "         lat       long  year  odometer/price  desc_len  model_in_desc\n",
       "0  35.060000 -85.250000  2020        0.499036      4482              0\n",
       "1  40.821805 -74.061962  2016        3.542852       968              0\n",
       "2  33.779214 -84.411811  2017        0.394718      4286              0\n",
       "3  35.715954 -78.655304  2013        8.089034      3241              0\n",
       "4  35.970000 -83.940000  2012        5.515079      4851              0"
      ]
     },
     "execution_count": 33,
     "metadata": {},
     "output_type": "execute_result"
    }
   ],
   "source": [
    "data1['model_in_desc'] = df.apply(lambda x: x.description.count(x.model) , axis=1)\n",
    "data1.head(5)"
   ]
  },
  {
   "cell_type": "code",
   "execution_count": 34,
   "id": "2552e25c",
   "metadata": {},
   "outputs": [
    {
     "data": {
      "text/html": [
       "<div>\n",
       "<style scoped>\n",
       "    .dataframe tbody tr th:only-of-type {\n",
       "        vertical-align: middle;\n",
       "    }\n",
       "\n",
       "    .dataframe tbody tr th {\n",
       "        vertical-align: top;\n",
       "    }\n",
       "\n",
       "    .dataframe thead th {\n",
       "        text-align: right;\n",
       "    }\n",
       "</style>\n",
       "<table border=\"1\" class=\"dataframe\">\n",
       "  <thead>\n",
       "    <tr style=\"text-align: right;\">\n",
       "      <th></th>\n",
       "      <th>lat</th>\n",
       "      <th>long</th>\n",
       "      <th>year</th>\n",
       "      <th>odometer/price</th>\n",
       "      <th>desc_len</th>\n",
       "      <th>model_in_desc</th>\n",
       "      <th>model_len</th>\n",
       "    </tr>\n",
       "  </thead>\n",
       "  <tbody>\n",
       "    <tr>\n",
       "      <th>0</th>\n",
       "      <td>35.060000</td>\n",
       "      <td>-85.250000</td>\n",
       "      <td>2020</td>\n",
       "      <td>0.499036</td>\n",
       "      <td>4482</td>\n",
       "      <td>0</td>\n",
       "      <td>22</td>\n",
       "    </tr>\n",
       "    <tr>\n",
       "      <th>1</th>\n",
       "      <td>40.821805</td>\n",
       "      <td>-74.061962</td>\n",
       "      <td>2016</td>\n",
       "      <td>3.542852</td>\n",
       "      <td>968</td>\n",
       "      <td>0</td>\n",
       "      <td>20</td>\n",
       "    </tr>\n",
       "    <tr>\n",
       "      <th>2</th>\n",
       "      <td>33.779214</td>\n",
       "      <td>-84.411811</td>\n",
       "      <td>2017</td>\n",
       "      <td>0.394718</td>\n",
       "      <td>4286</td>\n",
       "      <td>0</td>\n",
       "      <td>16</td>\n",
       "    </tr>\n",
       "    <tr>\n",
       "      <th>3</th>\n",
       "      <td>35.715954</td>\n",
       "      <td>-78.655304</td>\n",
       "      <td>2013</td>\n",
       "      <td>8.089034</td>\n",
       "      <td>3241</td>\n",
       "      <td>0</td>\n",
       "      <td>4</td>\n",
       "    </tr>\n",
       "    <tr>\n",
       "      <th>4</th>\n",
       "      <td>35.970000</td>\n",
       "      <td>-83.940000</td>\n",
       "      <td>2012</td>\n",
       "      <td>5.515079</td>\n",
       "      <td>4851</td>\n",
       "      <td>0</td>\n",
       "      <td>22</td>\n",
       "    </tr>\n",
       "  </tbody>\n",
       "</table>\n",
       "</div>"
      ],
      "text/plain": [
       "         lat       long  year  odometer/price  desc_len  model_in_desc  \\\n",
       "0  35.060000 -85.250000  2020        0.499036      4482              0   \n",
       "1  40.821805 -74.061962  2016        3.542852       968              0   \n",
       "2  33.779214 -84.411811  2017        0.394718      4286              0   \n",
       "3  35.715954 -78.655304  2013        8.089034      3241              0   \n",
       "4  35.970000 -83.940000  2012        5.515079      4851              0   \n",
       "\n",
       "   model_len  \n",
       "0         22  \n",
       "1         20  \n",
       "2         16  \n",
       "3          4  \n",
       "4         22  "
      ]
     },
     "execution_count": 34,
     "metadata": {},
     "output_type": "execute_result"
    }
   ],
   "source": [
    "data1['model_len'] = df.model.apply(lambda x: len(x))\n",
    "data1.head(5)"
   ]
  },
  {
   "cell_type": "code",
   "execution_count": 35,
   "id": "cae5bbfd",
   "metadata": {},
   "outputs": [
    {
     "data": {
      "text/html": [
       "<div>\n",
       "<style scoped>\n",
       "    .dataframe tbody tr th:only-of-type {\n",
       "        vertical-align: middle;\n",
       "    }\n",
       "\n",
       "    .dataframe tbody tr th {\n",
       "        vertical-align: top;\n",
       "    }\n",
       "\n",
       "    .dataframe thead th {\n",
       "        text-align: right;\n",
       "    }\n",
       "</style>\n",
       "<table border=\"1\" class=\"dataframe\">\n",
       "  <thead>\n",
       "    <tr style=\"text-align: right;\">\n",
       "      <th></th>\n",
       "      <th>lat</th>\n",
       "      <th>long</th>\n",
       "      <th>year</th>\n",
       "      <th>odometer/price</th>\n",
       "      <th>desc_len</th>\n",
       "      <th>model_in_desc</th>\n",
       "      <th>model_len</th>\n",
       "      <th>model_word_count</th>\n",
       "    </tr>\n",
       "  </thead>\n",
       "  <tbody>\n",
       "    <tr>\n",
       "      <th>0</th>\n",
       "      <td>35.060000</td>\n",
       "      <td>-85.250000</td>\n",
       "      <td>2020</td>\n",
       "      <td>0.499036</td>\n",
       "      <td>4482</td>\n",
       "      <td>0</td>\n",
       "      <td>22</td>\n",
       "      <td>5</td>\n",
       "    </tr>\n",
       "    <tr>\n",
       "      <th>1</th>\n",
       "      <td>40.821805</td>\n",
       "      <td>-74.061962</td>\n",
       "      <td>2016</td>\n",
       "      <td>3.542852</td>\n",
       "      <td>968</td>\n",
       "      <td>0</td>\n",
       "      <td>20</td>\n",
       "      <td>4</td>\n",
       "    </tr>\n",
       "    <tr>\n",
       "      <th>2</th>\n",
       "      <td>33.779214</td>\n",
       "      <td>-84.411811</td>\n",
       "      <td>2017</td>\n",
       "      <td>0.394718</td>\n",
       "      <td>4286</td>\n",
       "      <td>0</td>\n",
       "      <td>16</td>\n",
       "      <td>3</td>\n",
       "    </tr>\n",
       "    <tr>\n",
       "      <th>3</th>\n",
       "      <td>35.715954</td>\n",
       "      <td>-78.655304</td>\n",
       "      <td>2013</td>\n",
       "      <td>8.089034</td>\n",
       "      <td>3241</td>\n",
       "      <td>0</td>\n",
       "      <td>4</td>\n",
       "      <td>1</td>\n",
       "    </tr>\n",
       "    <tr>\n",
       "      <th>4</th>\n",
       "      <td>35.970000</td>\n",
       "      <td>-83.940000</td>\n",
       "      <td>2012</td>\n",
       "      <td>5.515079</td>\n",
       "      <td>4851</td>\n",
       "      <td>0</td>\n",
       "      <td>22</td>\n",
       "      <td>5</td>\n",
       "    </tr>\n",
       "    <tr>\n",
       "      <th>...</th>\n",
       "      <td>...</td>\n",
       "      <td>...</td>\n",
       "      <td>...</td>\n",
       "      <td>...</td>\n",
       "      <td>...</td>\n",
       "      <td>...</td>\n",
       "      <td>...</td>\n",
       "      <td>...</td>\n",
       "    </tr>\n",
       "    <tr>\n",
       "      <th>9614</th>\n",
       "      <td>42.123900</td>\n",
       "      <td>-79.189500</td>\n",
       "      <td>2002</td>\n",
       "      <td>33.370412</td>\n",
       "      <td>1710</td>\n",
       "      <td>0</td>\n",
       "      <td>4</td>\n",
       "      <td>1</td>\n",
       "    </tr>\n",
       "    <tr>\n",
       "      <th>9615</th>\n",
       "      <td>43.216990</td>\n",
       "      <td>-77.755610</td>\n",
       "      <td>2008</td>\n",
       "      <td>7.835323</td>\n",
       "      <td>948</td>\n",
       "      <td>0</td>\n",
       "      <td>8</td>\n",
       "      <td>1</td>\n",
       "    </tr>\n",
       "    <tr>\n",
       "      <th>9616</th>\n",
       "      <td>44.925908</td>\n",
       "      <td>-122.982753</td>\n",
       "      <td>2011</td>\n",
       "      <td>16.696387</td>\n",
       "      <td>909</td>\n",
       "      <td>0</td>\n",
       "      <td>25</td>\n",
       "      <td>5</td>\n",
       "    </tr>\n",
       "    <tr>\n",
       "      <th>9617</th>\n",
       "      <td>43.029559</td>\n",
       "      <td>-89.397796</td>\n",
       "      <td>2015</td>\n",
       "      <td>1.941787</td>\n",
       "      <td>3644</td>\n",
       "      <td>0</td>\n",
       "      <td>7</td>\n",
       "      <td>1</td>\n",
       "    </tr>\n",
       "    <tr>\n",
       "      <th>9618</th>\n",
       "      <td>36.670000</td>\n",
       "      <td>-76.300000</td>\n",
       "      <td>2017</td>\n",
       "      <td>1.122882</td>\n",
       "      <td>4483</td>\n",
       "      <td>0</td>\n",
       "      <td>22</td>\n",
       "      <td>5</td>\n",
       "    </tr>\n",
       "  </tbody>\n",
       "</table>\n",
       "<p>9619 rows × 8 columns</p>\n",
       "</div>"
      ],
      "text/plain": [
       "            lat        long  year  odometer/price  desc_len  model_in_desc  \\\n",
       "0     35.060000  -85.250000  2020        0.499036      4482              0   \n",
       "1     40.821805  -74.061962  2016        3.542852       968              0   \n",
       "2     33.779214  -84.411811  2017        0.394718      4286              0   \n",
       "3     35.715954  -78.655304  2013        8.089034      3241              0   \n",
       "4     35.970000  -83.940000  2012        5.515079      4851              0   \n",
       "...         ...         ...   ...             ...       ...            ...   \n",
       "9614  42.123900  -79.189500  2002       33.370412      1710              0   \n",
       "9615  43.216990  -77.755610  2008        7.835323       948              0   \n",
       "9616  44.925908 -122.982753  2011       16.696387       909              0   \n",
       "9617  43.029559  -89.397796  2015        1.941787      3644              0   \n",
       "9618  36.670000  -76.300000  2017        1.122882      4483              0   \n",
       "\n",
       "      model_len  model_word_count  \n",
       "0            22                 5  \n",
       "1            20                 4  \n",
       "2            16                 3  \n",
       "3             4                 1  \n",
       "4            22                 5  \n",
       "...         ...               ...  \n",
       "9614          4                 1  \n",
       "9615          8                 1  \n",
       "9616         25                 5  \n",
       "9617          7                 1  \n",
       "9618         22                 5  \n",
       "\n",
       "[9619 rows x 8 columns]"
      ]
     },
     "execution_count": 35,
     "metadata": {},
     "output_type": "execute_result"
    }
   ],
   "source": [
    "data1['model_word_count'] = df.model.apply(lambda x: x.split(' ')).apply(lambda x: len(x))\n",
    "data1"
   ]
  },
  {
   "cell_type": "markdown",
   "id": "0f6aa4c8",
   "metadata": {},
   "source": [
    "Многие алгоритмы машинного обучения работают лучше или сходятся быстрее, когда функции находятся в относительно одинаковом масштабе и / или близки к нормальному распределению. Примеры таких семейств алгоритмов включают в себя:\n",
    "\n",
    "- линейная и логистическая регрессия\n",
    "- ближайшие соседи\n",
    "- нейронные сети\n",
    "- машины опорных векторов с функциями ядра с радиальным смещением\n",
    "- анализ основных компонентов\n",
    "- линейный дискриминантный анализ\n",
    "\n",
    "Масштабирование и стандартизация могут помочь функциям получить более удобную форму для этих алгоритмов.\n",
    "\n",
    "MinMaxScaler,RobustScaler,StandardScaler, а такжеNormalizerявляются методами предварительной обработки данных для машинного обучения.\n",
    "\n"
   ]
  },
  {
   "cell_type": "markdown",
   "id": "685e6f8c",
   "metadata": {},
   "source": [
    "#### Создадим объект `std_scaler` класса StandardScaler с параметрами по умолчанию, который будет отвечать за стандартизацию."
   ]
  },
  {
   "cell_type": "markdown",
   "id": "f92bce1b",
   "metadata": {},
   "source": [
    "StandardScaler стандартизирует функцию путем вычитания среднего значения, а затем масштабирования до дисперсии единиц. Единица отклонения означает деление всех значений на стандартное отклонение. StandardScaler не соответствует строгому определениюмасштабЯ представил ранее.\n",
    "\n",
    "StandardScaler приводит к распределению со стандартным отклонением, равным 1. Дисперсия также равна 1, поскольку дисперсия = стандартное отклонение в квадрате, И 1 в квадрате = 1.\n",
    "\n",
    "StandardScaler составляет среднее значение распределения 0. Около 68% значений будут находиться в диапазоне от -1 до 1."
   ]
  },
  {
   "cell_type": "code",
   "execution_count": 36,
   "id": "e6c59c19",
   "metadata": {},
   "outputs": [
    {
     "data": {
      "text/plain": [
       "StandardScaler()"
      ]
     },
     "execution_count": 36,
     "metadata": {},
     "output_type": "execute_result"
    }
   ],
   "source": [
    "std_scaler = StandardScaler()\n",
    "std_scaler"
   ]
  },
  {
   "cell_type": "markdown",
   "id": "ae32d492",
   "metadata": {},
   "source": [
    "Идентифицируем параметры преобразования на датафрейме с количественными переменными."
   ]
  },
  {
   "cell_type": "code",
   "execution_count": 37,
   "id": "99173b14",
   "metadata": {},
   "outputs": [
    {
     "data": {
      "text/plain": [
       "StandardScaler()"
      ]
     },
     "execution_count": 37,
     "metadata": {},
     "output_type": "execute_result"
    }
   ],
   "source": [
    "std_scaler.fit(df[['lat', 'long', 'year', 'odometer/price', 'desc_len', 'model_in_desc', 'model_len', 'model_word_count']])"
   ]
  },
  {
   "cell_type": "markdown",
   "id": "751184dd",
   "metadata": {},
   "source": [
    "Применим преобразование для датафрейма с количественными переменными и сохраним в новую переменную, распечатаем получившуюся матрицу и её размерность."
   ]
  },
  {
   "cell_type": "code",
   "execution_count": 38,
   "id": "d9ffc98f",
   "metadata": {},
   "outputs": [
    {
     "data": {
      "text/plain": [
       "array([[-0.61917248,  0.48424452,  1.32239376, ..., -0.15578836,\n",
       "         1.16303238,  1.91066901],\n",
       "       [ 0.38801429,  1.11079989,  0.69597272, ..., -0.15578836,\n",
       "         0.93208734,  1.23579936],\n",
       "       [-0.84305905,  0.531185  ,  0.85257798, ..., -0.15578836,\n",
       "         0.47019727,  0.56092971],\n",
       "       ...,\n",
       "       [ 1.10542805, -1.62887477, -0.08705357, ..., -0.15578836,\n",
       "         1.50944993,  1.91066901],\n",
       "       [ 0.7739386 ,  0.25195859,  0.53936746, ..., -0.15578836,\n",
       "        -0.56905538, -0.78880959],\n",
       "       [-0.33773799,  0.98546471,  0.85257798, ..., -0.15578836,\n",
       "         1.16303238,  1.91066901]])"
      ]
     },
     "execution_count": 38,
     "metadata": {},
     "output_type": "execute_result"
    }
   ],
   "source": [
    "std_scaled = std_scaler.transform(df[['lat', 'long', 'year', 'odometer/price', 'desc_len', 'model_in_desc', 'model_len', 'model_word_count']])\n",
    "std_scaled"
   ]
  },
  {
   "cell_type": "code",
   "execution_count": 39,
   "id": "794daf11",
   "metadata": {},
   "outputs": [
    {
     "data": {
      "text/plain": [
       "(9619, 8)"
      ]
     },
     "execution_count": 39,
     "metadata": {},
     "output_type": "execute_result"
    }
   ],
   "source": [
    "std_scaled.shape"
   ]
  },
  {
   "cell_type": "code",
   "execution_count": 40,
   "id": "d7adaff4",
   "metadata": {},
   "outputs": [],
   "source": [
    "data1[['std_scaled_lat', 'std_scaled_long', 'std_scaled_year', 'std_scaled_odometer/price', 'std_scaled_desc_len', 'std_scaled_model_in_desc', 'std_scaled_model_len', 'std_scaled_model_word_count']] = std_scaled"
   ]
  },
  {
   "cell_type": "code",
   "execution_count": 41,
   "id": "90519532",
   "metadata": {},
   "outputs": [
    {
     "data": {
      "text/html": [
       "<div>\n",
       "<style scoped>\n",
       "    .dataframe tbody tr th:only-of-type {\n",
       "        vertical-align: middle;\n",
       "    }\n",
       "\n",
       "    .dataframe tbody tr th {\n",
       "        vertical-align: top;\n",
       "    }\n",
       "\n",
       "    .dataframe thead th {\n",
       "        text-align: right;\n",
       "    }\n",
       "</style>\n",
       "<table border=\"1\" class=\"dataframe\">\n",
       "  <thead>\n",
       "    <tr style=\"text-align: right;\">\n",
       "      <th></th>\n",
       "      <th>lat</th>\n",
       "      <th>long</th>\n",
       "      <th>year</th>\n",
       "      <th>odometer/price</th>\n",
       "      <th>desc_len</th>\n",
       "      <th>model_in_desc</th>\n",
       "      <th>model_len</th>\n",
       "      <th>model_word_count</th>\n",
       "      <th>std_scaled_lat</th>\n",
       "      <th>std_scaled_long</th>\n",
       "      <th>std_scaled_year</th>\n",
       "      <th>std_scaled_odometer/price</th>\n",
       "      <th>std_scaled_desc_len</th>\n",
       "      <th>std_scaled_model_in_desc</th>\n",
       "      <th>std_scaled_model_len</th>\n",
       "      <th>std_scaled_model_word_count</th>\n",
       "    </tr>\n",
       "  </thead>\n",
       "  <tbody>\n",
       "    <tr>\n",
       "      <th>0</th>\n",
       "      <td>35.060000</td>\n",
       "      <td>-85.250000</td>\n",
       "      <td>2020</td>\n",
       "      <td>0.499036</td>\n",
       "      <td>4482</td>\n",
       "      <td>0</td>\n",
       "      <td>22</td>\n",
       "      <td>5</td>\n",
       "      <td>-0.619172</td>\n",
       "      <td>0.484245</td>\n",
       "      <td>1.322394</td>\n",
       "      <td>-0.510784</td>\n",
       "      <td>0.632075</td>\n",
       "      <td>-0.155788</td>\n",
       "      <td>1.163032</td>\n",
       "      <td>1.910669</td>\n",
       "    </tr>\n",
       "    <tr>\n",
       "      <th>1</th>\n",
       "      <td>40.821805</td>\n",
       "      <td>-74.061962</td>\n",
       "      <td>2016</td>\n",
       "      <td>3.542852</td>\n",
       "      <td>968</td>\n",
       "      <td>0</td>\n",
       "      <td>20</td>\n",
       "      <td>4</td>\n",
       "      <td>0.388014</td>\n",
       "      <td>1.110800</td>\n",
       "      <td>0.695973</td>\n",
       "      <td>-0.402947</td>\n",
       "      <td>-0.646781</td>\n",
       "      <td>-0.155788</td>\n",
       "      <td>0.932087</td>\n",
       "      <td>1.235799</td>\n",
       "    </tr>\n",
       "    <tr>\n",
       "      <th>2</th>\n",
       "      <td>33.779214</td>\n",
       "      <td>-84.411811</td>\n",
       "      <td>2017</td>\n",
       "      <td>0.394718</td>\n",
       "      <td>4286</td>\n",
       "      <td>0</td>\n",
       "      <td>16</td>\n",
       "      <td>3</td>\n",
       "      <td>-0.843059</td>\n",
       "      <td>0.531185</td>\n",
       "      <td>0.852578</td>\n",
       "      <td>-0.514480</td>\n",
       "      <td>0.560744</td>\n",
       "      <td>-0.155788</td>\n",
       "      <td>0.470197</td>\n",
       "      <td>0.560930</td>\n",
       "    </tr>\n",
       "    <tr>\n",
       "      <th>3</th>\n",
       "      <td>35.715954</td>\n",
       "      <td>-78.655304</td>\n",
       "      <td>2013</td>\n",
       "      <td>8.089034</td>\n",
       "      <td>3241</td>\n",
       "      <td>0</td>\n",
       "      <td>4</td>\n",
       "      <td>1</td>\n",
       "      <td>-0.504509</td>\n",
       "      <td>0.853562</td>\n",
       "      <td>0.226157</td>\n",
       "      <td>-0.241883</td>\n",
       "      <td>0.180435</td>\n",
       "      <td>-0.155788</td>\n",
       "      <td>-0.915473</td>\n",
       "      <td>-0.788810</td>\n",
       "    </tr>\n",
       "    <tr>\n",
       "      <th>4</th>\n",
       "      <td>35.970000</td>\n",
       "      <td>-83.940000</td>\n",
       "      <td>2012</td>\n",
       "      <td>5.515079</td>\n",
       "      <td>4851</td>\n",
       "      <td>0</td>\n",
       "      <td>22</td>\n",
       "      <td>5</td>\n",
       "      <td>-0.460101</td>\n",
       "      <td>0.557607</td>\n",
       "      <td>0.069552</td>\n",
       "      <td>-0.333074</td>\n",
       "      <td>0.766366</td>\n",
       "      <td>-0.155788</td>\n",
       "      <td>1.163032</td>\n",
       "      <td>1.910669</td>\n",
       "    </tr>\n",
       "    <tr>\n",
       "      <th>...</th>\n",
       "      <td>...</td>\n",
       "      <td>...</td>\n",
       "      <td>...</td>\n",
       "      <td>...</td>\n",
       "      <td>...</td>\n",
       "      <td>...</td>\n",
       "      <td>...</td>\n",
       "      <td>...</td>\n",
       "      <td>...</td>\n",
       "      <td>...</td>\n",
       "      <td>...</td>\n",
       "      <td>...</td>\n",
       "      <td>...</td>\n",
       "      <td>...</td>\n",
       "      <td>...</td>\n",
       "      <td>...</td>\n",
       "    </tr>\n",
       "    <tr>\n",
       "      <th>9614</th>\n",
       "      <td>42.123900</td>\n",
       "      <td>-79.189500</td>\n",
       "      <td>2002</td>\n",
       "      <td>33.370412</td>\n",
       "      <td>1710</td>\n",
       "      <td>0</td>\n",
       "      <td>4</td>\n",
       "      <td>1</td>\n",
       "      <td>0.615626</td>\n",
       "      <td>0.823646</td>\n",
       "      <td>-1.496501</td>\n",
       "      <td>0.653795</td>\n",
       "      <td>-0.376744</td>\n",
       "      <td>-0.155788</td>\n",
       "      <td>-0.915473</td>\n",
       "      <td>-0.788810</td>\n",
       "    </tr>\n",
       "    <tr>\n",
       "      <th>9615</th>\n",
       "      <td>43.216990</td>\n",
       "      <td>-77.755610</td>\n",
       "      <td>2008</td>\n",
       "      <td>7.835323</td>\n",
       "      <td>948</td>\n",
       "      <td>0</td>\n",
       "      <td>8</td>\n",
       "      <td>1</td>\n",
       "      <td>0.806702</td>\n",
       "      <td>0.903947</td>\n",
       "      <td>-0.556869</td>\n",
       "      <td>-0.250872</td>\n",
       "      <td>-0.654060</td>\n",
       "      <td>-0.155788</td>\n",
       "      <td>-0.453583</td>\n",
       "      <td>-0.788810</td>\n",
       "    </tr>\n",
       "    <tr>\n",
       "      <th>9616</th>\n",
       "      <td>44.925908</td>\n",
       "      <td>-122.982753</td>\n",
       "      <td>2011</td>\n",
       "      <td>16.696387</td>\n",
       "      <td>909</td>\n",
       "      <td>0</td>\n",
       "      <td>25</td>\n",
       "      <td>5</td>\n",
       "      <td>1.105428</td>\n",
       "      <td>-1.628875</td>\n",
       "      <td>-0.087054</td>\n",
       "      <td>0.063061</td>\n",
       "      <td>-0.668253</td>\n",
       "      <td>-0.155788</td>\n",
       "      <td>1.509450</td>\n",
       "      <td>1.910669</td>\n",
       "    </tr>\n",
       "    <tr>\n",
       "      <th>9617</th>\n",
       "      <td>43.029559</td>\n",
       "      <td>-89.397796</td>\n",
       "      <td>2015</td>\n",
       "      <td>1.941787</td>\n",
       "      <td>3644</td>\n",
       "      <td>0</td>\n",
       "      <td>7</td>\n",
       "      <td>1</td>\n",
       "      <td>0.773939</td>\n",
       "      <td>0.251959</td>\n",
       "      <td>0.539367</td>\n",
       "      <td>-0.459670</td>\n",
       "      <td>0.327100</td>\n",
       "      <td>-0.155788</td>\n",
       "      <td>-0.569055</td>\n",
       "      <td>-0.788810</td>\n",
       "    </tr>\n",
       "    <tr>\n",
       "      <th>9618</th>\n",
       "      <td>36.670000</td>\n",
       "      <td>-76.300000</td>\n",
       "      <td>2017</td>\n",
       "      <td>1.122882</td>\n",
       "      <td>4483</td>\n",
       "      <td>0</td>\n",
       "      <td>22</td>\n",
       "      <td>5</td>\n",
       "      <td>-0.337738</td>\n",
       "      <td>0.985465</td>\n",
       "      <td>0.852578</td>\n",
       "      <td>-0.488682</td>\n",
       "      <td>0.632439</td>\n",
       "      <td>-0.155788</td>\n",
       "      <td>1.163032</td>\n",
       "      <td>1.910669</td>\n",
       "    </tr>\n",
       "  </tbody>\n",
       "</table>\n",
       "<p>9619 rows × 16 columns</p>\n",
       "</div>"
      ],
      "text/plain": [
       "            lat        long  year  odometer/price  desc_len  model_in_desc  \\\n",
       "0     35.060000  -85.250000  2020        0.499036      4482              0   \n",
       "1     40.821805  -74.061962  2016        3.542852       968              0   \n",
       "2     33.779214  -84.411811  2017        0.394718      4286              0   \n",
       "3     35.715954  -78.655304  2013        8.089034      3241              0   \n",
       "4     35.970000  -83.940000  2012        5.515079      4851              0   \n",
       "...         ...         ...   ...             ...       ...            ...   \n",
       "9614  42.123900  -79.189500  2002       33.370412      1710              0   \n",
       "9615  43.216990  -77.755610  2008        7.835323       948              0   \n",
       "9616  44.925908 -122.982753  2011       16.696387       909              0   \n",
       "9617  43.029559  -89.397796  2015        1.941787      3644              0   \n",
       "9618  36.670000  -76.300000  2017        1.122882      4483              0   \n",
       "\n",
       "      model_len  model_word_count  std_scaled_lat  std_scaled_long  \\\n",
       "0            22                 5       -0.619172         0.484245   \n",
       "1            20                 4        0.388014         1.110800   \n",
       "2            16                 3       -0.843059         0.531185   \n",
       "3             4                 1       -0.504509         0.853562   \n",
       "4            22                 5       -0.460101         0.557607   \n",
       "...         ...               ...             ...              ...   \n",
       "9614          4                 1        0.615626         0.823646   \n",
       "9615          8                 1        0.806702         0.903947   \n",
       "9616         25                 5        1.105428        -1.628875   \n",
       "9617          7                 1        0.773939         0.251959   \n",
       "9618         22                 5       -0.337738         0.985465   \n",
       "\n",
       "      std_scaled_year  std_scaled_odometer/price  std_scaled_desc_len  \\\n",
       "0            1.322394                  -0.510784             0.632075   \n",
       "1            0.695973                  -0.402947            -0.646781   \n",
       "2            0.852578                  -0.514480             0.560744   \n",
       "3            0.226157                  -0.241883             0.180435   \n",
       "4            0.069552                  -0.333074             0.766366   \n",
       "...               ...                        ...                  ...   \n",
       "9614        -1.496501                   0.653795            -0.376744   \n",
       "9615        -0.556869                  -0.250872            -0.654060   \n",
       "9616        -0.087054                   0.063061            -0.668253   \n",
       "9617         0.539367                  -0.459670             0.327100   \n",
       "9618         0.852578                  -0.488682             0.632439   \n",
       "\n",
       "      std_scaled_model_in_desc  std_scaled_model_len  \\\n",
       "0                    -0.155788              1.163032   \n",
       "1                    -0.155788              0.932087   \n",
       "2                    -0.155788              0.470197   \n",
       "3                    -0.155788             -0.915473   \n",
       "4                    -0.155788              1.163032   \n",
       "...                        ...                   ...   \n",
       "9614                 -0.155788             -0.915473   \n",
       "9615                 -0.155788             -0.453583   \n",
       "9616                 -0.155788              1.509450   \n",
       "9617                 -0.155788             -0.569055   \n",
       "9618                 -0.155788              1.163032   \n",
       "\n",
       "      std_scaled_model_word_count  \n",
       "0                        1.910669  \n",
       "1                        1.235799  \n",
       "2                        0.560930  \n",
       "3                       -0.788810  \n",
       "4                        1.910669  \n",
       "...                           ...  \n",
       "9614                    -0.788810  \n",
       "9615                    -0.788810  \n",
       "9616                     1.910669  \n",
       "9617                    -0.788810  \n",
       "9618                     1.910669  \n",
       "\n",
       "[9619 rows x 16 columns]"
      ]
     },
     "execution_count": 41,
     "metadata": {},
     "output_type": "execute_result"
    }
   ],
   "source": [
    "data1"
   ]
  },
  {
   "cell_type": "code",
   "execution_count": 42,
   "id": "90bf70b1",
   "metadata": {},
   "outputs": [
    {
     "data": {
      "text/plain": [
       "(9619, 16)"
      ]
     },
     "execution_count": 42,
     "metadata": {},
     "output_type": "execute_result"
    }
   ],
   "source": [
    "data1.shape"
   ]
  },
  {
   "cell_type": "markdown",
   "id": "1f053ca2",
   "metadata": {},
   "source": [
    "Добавим в исходный датафрейм получившиеся новые признаки, выведем первые 5 записей датафрейма и список колонок."
   ]
  },
  {
   "cell_type": "code",
   "execution_count": 43,
   "id": "c5c451ba",
   "metadata": {},
   "outputs": [
    {
     "data": {
      "text/html": [
       "<div>\n",
       "<style scoped>\n",
       "    .dataframe tbody tr th:only-of-type {\n",
       "        vertical-align: middle;\n",
       "    }\n",
       "\n",
       "    .dataframe tbody tr th {\n",
       "        vertical-align: top;\n",
       "    }\n",
       "\n",
       "    .dataframe thead th {\n",
       "        text-align: right;\n",
       "    }\n",
       "</style>\n",
       "<table border=\"1\" class=\"dataframe\">\n",
       "  <thead>\n",
       "    <tr style=\"text-align: right;\">\n",
       "      <th></th>\n",
       "      <th>lat</th>\n",
       "      <th>long</th>\n",
       "      <th>year</th>\n",
       "      <th>odometer/price</th>\n",
       "      <th>desc_len</th>\n",
       "      <th>model_in_desc</th>\n",
       "      <th>model_len</th>\n",
       "      <th>model_word_count</th>\n",
       "      <th>std_scaled_lat</th>\n",
       "      <th>std_scaled_long</th>\n",
       "      <th>std_scaled_year</th>\n",
       "      <th>std_scaled_odometer/price</th>\n",
       "      <th>std_scaled_desc_len</th>\n",
       "      <th>std_scaled_model_in_desc</th>\n",
       "      <th>std_scaled_model_len</th>\n",
       "      <th>std_scaled_model_word_count</th>\n",
       "    </tr>\n",
       "  </thead>\n",
       "  <tbody>\n",
       "    <tr>\n",
       "      <th>0</th>\n",
       "      <td>35.060000</td>\n",
       "      <td>-85.250000</td>\n",
       "      <td>2020</td>\n",
       "      <td>0.499036</td>\n",
       "      <td>4482</td>\n",
       "      <td>0</td>\n",
       "      <td>22</td>\n",
       "      <td>5</td>\n",
       "      <td>-0.619172</td>\n",
       "      <td>0.484245</td>\n",
       "      <td>1.322394</td>\n",
       "      <td>-0.510784</td>\n",
       "      <td>0.632075</td>\n",
       "      <td>-0.155788</td>\n",
       "      <td>1.163032</td>\n",
       "      <td>1.910669</td>\n",
       "    </tr>\n",
       "    <tr>\n",
       "      <th>1</th>\n",
       "      <td>40.821805</td>\n",
       "      <td>-74.061962</td>\n",
       "      <td>2016</td>\n",
       "      <td>3.542852</td>\n",
       "      <td>968</td>\n",
       "      <td>0</td>\n",
       "      <td>20</td>\n",
       "      <td>4</td>\n",
       "      <td>0.388014</td>\n",
       "      <td>1.110800</td>\n",
       "      <td>0.695973</td>\n",
       "      <td>-0.402947</td>\n",
       "      <td>-0.646781</td>\n",
       "      <td>-0.155788</td>\n",
       "      <td>0.932087</td>\n",
       "      <td>1.235799</td>\n",
       "    </tr>\n",
       "    <tr>\n",
       "      <th>2</th>\n",
       "      <td>33.779214</td>\n",
       "      <td>-84.411811</td>\n",
       "      <td>2017</td>\n",
       "      <td>0.394718</td>\n",
       "      <td>4286</td>\n",
       "      <td>0</td>\n",
       "      <td>16</td>\n",
       "      <td>3</td>\n",
       "      <td>-0.843059</td>\n",
       "      <td>0.531185</td>\n",
       "      <td>0.852578</td>\n",
       "      <td>-0.514480</td>\n",
       "      <td>0.560744</td>\n",
       "      <td>-0.155788</td>\n",
       "      <td>0.470197</td>\n",
       "      <td>0.560930</td>\n",
       "    </tr>\n",
       "    <tr>\n",
       "      <th>3</th>\n",
       "      <td>35.715954</td>\n",
       "      <td>-78.655304</td>\n",
       "      <td>2013</td>\n",
       "      <td>8.089034</td>\n",
       "      <td>3241</td>\n",
       "      <td>0</td>\n",
       "      <td>4</td>\n",
       "      <td>1</td>\n",
       "      <td>-0.504509</td>\n",
       "      <td>0.853562</td>\n",
       "      <td>0.226157</td>\n",
       "      <td>-0.241883</td>\n",
       "      <td>0.180435</td>\n",
       "      <td>-0.155788</td>\n",
       "      <td>-0.915473</td>\n",
       "      <td>-0.788810</td>\n",
       "    </tr>\n",
       "    <tr>\n",
       "      <th>4</th>\n",
       "      <td>35.970000</td>\n",
       "      <td>-83.940000</td>\n",
       "      <td>2012</td>\n",
       "      <td>5.515079</td>\n",
       "      <td>4851</td>\n",
       "      <td>0</td>\n",
       "      <td>22</td>\n",
       "      <td>5</td>\n",
       "      <td>-0.460101</td>\n",
       "      <td>0.557607</td>\n",
       "      <td>0.069552</td>\n",
       "      <td>-0.333074</td>\n",
       "      <td>0.766366</td>\n",
       "      <td>-0.155788</td>\n",
       "      <td>1.163032</td>\n",
       "      <td>1.910669</td>\n",
       "    </tr>\n",
       "  </tbody>\n",
       "</table>\n",
       "</div>"
      ],
      "text/plain": [
       "         lat       long  year  odometer/price  desc_len  model_in_desc  \\\n",
       "0  35.060000 -85.250000  2020        0.499036      4482              0   \n",
       "1  40.821805 -74.061962  2016        3.542852       968              0   \n",
       "2  33.779214 -84.411811  2017        0.394718      4286              0   \n",
       "3  35.715954 -78.655304  2013        8.089034      3241              0   \n",
       "4  35.970000 -83.940000  2012        5.515079      4851              0   \n",
       "\n",
       "   model_len  model_word_count  std_scaled_lat  std_scaled_long  \\\n",
       "0         22                 5       -0.619172         0.484245   \n",
       "1         20                 4        0.388014         1.110800   \n",
       "2         16                 3       -0.843059         0.531185   \n",
       "3          4                 1       -0.504509         0.853562   \n",
       "4         22                 5       -0.460101         0.557607   \n",
       "\n",
       "   std_scaled_year  std_scaled_odometer/price  std_scaled_desc_len  \\\n",
       "0         1.322394                  -0.510784             0.632075   \n",
       "1         0.695973                  -0.402947            -0.646781   \n",
       "2         0.852578                  -0.514480             0.560744   \n",
       "3         0.226157                  -0.241883             0.180435   \n",
       "4         0.069552                  -0.333074             0.766366   \n",
       "\n",
       "   std_scaled_model_in_desc  std_scaled_model_len  std_scaled_model_word_count  \n",
       "0                 -0.155788              1.163032                     1.910669  \n",
       "1                 -0.155788              0.932087                     1.235799  \n",
       "2                 -0.155788              0.470197                     0.560930  \n",
       "3                 -0.155788             -0.915473                    -0.788810  \n",
       "4                 -0.155788              1.163032                     1.910669  "
      ]
     },
     "execution_count": 43,
     "metadata": {},
     "output_type": "execute_result"
    }
   ],
   "source": [
    "data1.head(5)"
   ]
  },
  {
   "cell_type": "code",
   "execution_count": 44,
   "id": "f5263961",
   "metadata": {},
   "outputs": [
    {
     "data": {
      "text/plain": [
       "Index(['lat', 'long', 'year', 'odometer/price', 'desc_len', 'model_in_desc',\n",
       "       'model_len', 'model_word_count', 'std_scaled_lat', 'std_scaled_long',\n",
       "       'std_scaled_year', 'std_scaled_odometer/price', 'std_scaled_desc_len',\n",
       "       'std_scaled_model_in_desc', 'std_scaled_model_len',\n",
       "       'std_scaled_model_word_count'],\n",
       "      dtype='object')"
      ]
     },
     "execution_count": 44,
     "metadata": {},
     "output_type": "execute_result"
    }
   ],
   "source": [
    "data1.columns"
   ]
  },
  {
   "cell_type": "markdown",
   "id": "0ff1d392",
   "metadata": {},
   "source": [
    "### MinMax-нормализация данных\n",
    "\n",
    "Импортируем MinMaxScaler из `sklearn.preprocessing`."
   ]
  },
  {
   "cell_type": "markdown",
   "id": "5c8872d3",
   "metadata": {},
   "source": [
    "Для каждого значения в объекте MinMaxScaler вычитает минимальное значение в объекте и затем делит на диапазон. Диапазон - это разница между исходным максимумом и исходным минимумом.\n",
    "\n",
    "MinMaxScaler сохраняет форму исходного дистрибутива. Это не приводит к значительному изменению информации, встроенной в исходные данные.\n",
    "\n",
    "Обратите внимание, что MinMaxScaler не уменьшает важность выбросов.\n",
    "\n",
    "Диапазон по умолчанию для функции, возвращаемой MinMaxScaler, составляет от 0 до 1"
   ]
  },
  {
   "cell_type": "code",
   "execution_count": 45,
   "id": "8eaa80f4",
   "metadata": {},
   "outputs": [],
   "source": [
    "from sklearn.preprocessing import MinMaxScaler"
   ]
  },
  {
   "cell_type": "markdown",
   "id": "ff6fa6a6",
   "metadata": {},
   "source": [
    "Создайте датафрейм, содержащий переменные `lat` и `long`."
   ]
  },
  {
   "cell_type": "code",
   "execution_count": 46,
   "id": "a02a0b66",
   "metadata": {},
   "outputs": [
    {
     "data": {
      "text/html": [
       "<div>\n",
       "<style scoped>\n",
       "    .dataframe tbody tr th:only-of-type {\n",
       "        vertical-align: middle;\n",
       "    }\n",
       "\n",
       "    .dataframe tbody tr th {\n",
       "        vertical-align: top;\n",
       "    }\n",
       "\n",
       "    .dataframe thead th {\n",
       "        text-align: right;\n",
       "    }\n",
       "</style>\n",
       "<table border=\"1\" class=\"dataframe\">\n",
       "  <thead>\n",
       "    <tr style=\"text-align: right;\">\n",
       "      <th></th>\n",
       "      <th>lat</th>\n",
       "      <th>long</th>\n",
       "    </tr>\n",
       "  </thead>\n",
       "  <tbody>\n",
       "    <tr>\n",
       "      <th>0</th>\n",
       "      <td>35.060000</td>\n",
       "      <td>-85.250000</td>\n",
       "    </tr>\n",
       "    <tr>\n",
       "      <th>1</th>\n",
       "      <td>40.821805</td>\n",
       "      <td>-74.061962</td>\n",
       "    </tr>\n",
       "    <tr>\n",
       "      <th>2</th>\n",
       "      <td>33.779214</td>\n",
       "      <td>-84.411811</td>\n",
       "    </tr>\n",
       "    <tr>\n",
       "      <th>3</th>\n",
       "      <td>35.715954</td>\n",
       "      <td>-78.655304</td>\n",
       "    </tr>\n",
       "    <tr>\n",
       "      <th>4</th>\n",
       "      <td>35.970000</td>\n",
       "      <td>-83.940000</td>\n",
       "    </tr>\n",
       "    <tr>\n",
       "      <th>5</th>\n",
       "      <td>41.373000</td>\n",
       "      <td>-93.735800</td>\n",
       "    </tr>\n",
       "    <tr>\n",
       "      <th>6</th>\n",
       "      <td>37.302900</td>\n",
       "      <td>-79.932200</td>\n",
       "    </tr>\n",
       "  </tbody>\n",
       "</table>\n",
       "</div>"
      ],
      "text/plain": [
       "         lat       long\n",
       "0  35.060000 -85.250000\n",
       "1  40.821805 -74.061962\n",
       "2  33.779214 -84.411811\n",
       "3  35.715954 -78.655304\n",
       "4  35.970000 -83.940000\n",
       "5  41.373000 -93.735800\n",
       "6  37.302900 -79.932200"
      ]
     },
     "execution_count": 46,
     "metadata": {},
     "output_type": "execute_result"
    }
   ],
   "source": [
    "data_new = df[['lat', 'long']]\n",
    "data_new.head(7)"
   ]
  },
  {
   "cell_type": "markdown",
   "id": "02d8a81b",
   "metadata": {},
   "source": [
    "Повторим действия пунктов 2–6 из задачи 3 для добавления в исходный датафрейм признаков `lat_mm` и `long_mm`. Выведем получившийся датафрейм."
   ]
  },
  {
   "cell_type": "code",
   "execution_count": 47,
   "id": "1591d001",
   "metadata": {},
   "outputs": [
    {
     "data": {
      "text/plain": [
       "MinMaxScaler()"
      ]
     },
     "execution_count": 47,
     "metadata": {},
     "output_type": "execute_result"
    }
   ],
   "source": [
    "min_max_scaler = MinMaxScaler()\n",
    "min_max_scaler"
   ]
  },
  {
   "cell_type": "code",
   "execution_count": 48,
   "id": "5b19a2b5",
   "metadata": {},
   "outputs": [
    {
     "data": {
      "text/plain": [
       "MinMaxScaler()"
      ]
     },
     "execution_count": 48,
     "metadata": {},
     "output_type": "execute_result"
    }
   ],
   "source": [
    "min_max_scaler.fit(data_new[['lat', 'long']])"
   ]
  },
  {
   "cell_type": "code",
   "execution_count": 49,
   "id": "3517c489",
   "metadata": {},
   "outputs": [
    {
     "data": {
      "text/plain": [
       "array([[0.34176874, 0.28869912],\n",
       "       [0.4686646 , 0.33305517],\n",
       "       [0.31356118, 0.2920222 ],\n",
       "       ...,\n",
       "       [0.55905185, 0.13910399],\n",
       "       [0.51728736, 0.27225478],\n",
       "       [0.37722678, 0.32418225]])"
      ]
     },
     "execution_count": 49,
     "metadata": {},
     "output_type": "execute_result"
    }
   ],
   "source": [
    "min_max_scaler = min_max_scaler.transform(data_new[['lat', 'long']])\n",
    "min_max_scaler"
   ]
  },
  {
   "cell_type": "code",
   "execution_count": 50,
   "id": "94a66dd1",
   "metadata": {},
   "outputs": [],
   "source": [
    "data_new[['lat.mm', 'long.mm']] = min_max_scaler"
   ]
  },
  {
   "cell_type": "code",
   "execution_count": 51,
   "id": "475262a9",
   "metadata": {},
   "outputs": [
    {
     "data": {
      "text/html": [
       "<div>\n",
       "<style scoped>\n",
       "    .dataframe tbody tr th:only-of-type {\n",
       "        vertical-align: middle;\n",
       "    }\n",
       "\n",
       "    .dataframe tbody tr th {\n",
       "        vertical-align: top;\n",
       "    }\n",
       "\n",
       "    .dataframe thead th {\n",
       "        text-align: right;\n",
       "    }\n",
       "</style>\n",
       "<table border=\"1\" class=\"dataframe\">\n",
       "  <thead>\n",
       "    <tr style=\"text-align: right;\">\n",
       "      <th></th>\n",
       "      <th>lat</th>\n",
       "      <th>long</th>\n",
       "      <th>lat.mm</th>\n",
       "      <th>long.mm</th>\n",
       "    </tr>\n",
       "  </thead>\n",
       "  <tbody>\n",
       "    <tr>\n",
       "      <th>0</th>\n",
       "      <td>35.060000</td>\n",
       "      <td>-85.250000</td>\n",
       "      <td>0.341769</td>\n",
       "      <td>0.288699</td>\n",
       "    </tr>\n",
       "    <tr>\n",
       "      <th>1</th>\n",
       "      <td>40.821805</td>\n",
       "      <td>-74.061962</td>\n",
       "      <td>0.468665</td>\n",
       "      <td>0.333055</td>\n",
       "    </tr>\n",
       "    <tr>\n",
       "      <th>2</th>\n",
       "      <td>33.779214</td>\n",
       "      <td>-84.411811</td>\n",
       "      <td>0.313561</td>\n",
       "      <td>0.292022</td>\n",
       "    </tr>\n",
       "    <tr>\n",
       "      <th>3</th>\n",
       "      <td>35.715954</td>\n",
       "      <td>-78.655304</td>\n",
       "      <td>0.356215</td>\n",
       "      <td>0.314844</td>\n",
       "    </tr>\n",
       "    <tr>\n",
       "      <th>4</th>\n",
       "      <td>35.970000</td>\n",
       "      <td>-83.940000</td>\n",
       "      <td>0.361810</td>\n",
       "      <td>0.293893</td>\n",
       "    </tr>\n",
       "    <tr>\n",
       "      <th>5</th>\n",
       "      <td>41.373000</td>\n",
       "      <td>-93.735800</td>\n",
       "      <td>0.480804</td>\n",
       "      <td>0.255056</td>\n",
       "    </tr>\n",
       "    <tr>\n",
       "      <th>6</th>\n",
       "      <td>37.302900</td>\n",
       "      <td>-79.932200</td>\n",
       "      <td>0.391166</td>\n",
       "      <td>0.309782</td>\n",
       "    </tr>\n",
       "  </tbody>\n",
       "</table>\n",
       "</div>"
      ],
      "text/plain": [
       "         lat       long    lat.mm   long.mm\n",
       "0  35.060000 -85.250000  0.341769  0.288699\n",
       "1  40.821805 -74.061962  0.468665  0.333055\n",
       "2  33.779214 -84.411811  0.313561  0.292022\n",
       "3  35.715954 -78.655304  0.356215  0.314844\n",
       "4  35.970000 -83.940000  0.361810  0.293893\n",
       "5  41.373000 -93.735800  0.480804  0.255056\n",
       "6  37.302900 -79.932200  0.391166  0.309782"
      ]
     },
     "execution_count": 51,
     "metadata": {},
     "output_type": "execute_result"
    }
   ],
   "source": [
    "data_new.head(7)"
   ]
  },
  {
   "cell_type": "markdown",
   "id": "222606c5",
   "metadata": {},
   "source": [
    "Создададим переменную под географические признаки `lat`, `lat_std`, `lat_mm`, `long`, `long_std`, `long_mm` и выведите их. Посмотрим на различия в значениях для исходных признаков и нормализованных с помощью стандартизации и MinMax-преобразования. "
   ]
  },
  {
   "cell_type": "code",
   "execution_count": 52,
   "id": "1e1d4fe3",
   "metadata": {},
   "outputs": [],
   "source": [
    "data_geografic = data_new[['lat', 'long', 'lat.mm', 'long.mm']]"
   ]
  },
  {
   "cell_type": "code",
   "execution_count": 53,
   "id": "037c8205",
   "metadata": {},
   "outputs": [],
   "source": [
    "data_geografic['lat_std'] = data1['std_scaled_lat']\n",
    "data_geografic['long_std'] = data1['std_scaled_long']"
   ]
  },
  {
   "cell_type": "code",
   "execution_count": 54,
   "id": "0474efad",
   "metadata": {},
   "outputs": [
    {
     "data": {
      "text/html": [
       "<div>\n",
       "<style scoped>\n",
       "    .dataframe tbody tr th:only-of-type {\n",
       "        vertical-align: middle;\n",
       "    }\n",
       "\n",
       "    .dataframe tbody tr th {\n",
       "        vertical-align: top;\n",
       "    }\n",
       "\n",
       "    .dataframe thead th {\n",
       "        text-align: right;\n",
       "    }\n",
       "</style>\n",
       "<table border=\"1\" class=\"dataframe\">\n",
       "  <thead>\n",
       "    <tr style=\"text-align: right;\">\n",
       "      <th></th>\n",
       "      <th>lat</th>\n",
       "      <th>long</th>\n",
       "      <th>lat.mm</th>\n",
       "      <th>long.mm</th>\n",
       "      <th>lat_std</th>\n",
       "      <th>long_std</th>\n",
       "    </tr>\n",
       "  </thead>\n",
       "  <tbody>\n",
       "    <tr>\n",
       "      <th>0</th>\n",
       "      <td>35.060000</td>\n",
       "      <td>-85.250000</td>\n",
       "      <td>0.341769</td>\n",
       "      <td>0.288699</td>\n",
       "      <td>-0.619172</td>\n",
       "      <td>0.484245</td>\n",
       "    </tr>\n",
       "    <tr>\n",
       "      <th>1</th>\n",
       "      <td>40.821805</td>\n",
       "      <td>-74.061962</td>\n",
       "      <td>0.468665</td>\n",
       "      <td>0.333055</td>\n",
       "      <td>0.388014</td>\n",
       "      <td>1.110800</td>\n",
       "    </tr>\n",
       "    <tr>\n",
       "      <th>2</th>\n",
       "      <td>33.779214</td>\n",
       "      <td>-84.411811</td>\n",
       "      <td>0.313561</td>\n",
       "      <td>0.292022</td>\n",
       "      <td>-0.843059</td>\n",
       "      <td>0.531185</td>\n",
       "    </tr>\n",
       "    <tr>\n",
       "      <th>3</th>\n",
       "      <td>35.715954</td>\n",
       "      <td>-78.655304</td>\n",
       "      <td>0.356215</td>\n",
       "      <td>0.314844</td>\n",
       "      <td>-0.504509</td>\n",
       "      <td>0.853562</td>\n",
       "    </tr>\n",
       "    <tr>\n",
       "      <th>4</th>\n",
       "      <td>35.970000</td>\n",
       "      <td>-83.940000</td>\n",
       "      <td>0.361810</td>\n",
       "      <td>0.293893</td>\n",
       "      <td>-0.460101</td>\n",
       "      <td>0.557607</td>\n",
       "    </tr>\n",
       "    <tr>\n",
       "      <th>...</th>\n",
       "      <td>...</td>\n",
       "      <td>...</td>\n",
       "      <td>...</td>\n",
       "      <td>...</td>\n",
       "      <td>...</td>\n",
       "      <td>...</td>\n",
       "    </tr>\n",
       "    <tr>\n",
       "      <th>9614</th>\n",
       "      <td>42.123900</td>\n",
       "      <td>-79.189500</td>\n",
       "      <td>0.497341</td>\n",
       "      <td>0.312727</td>\n",
       "      <td>0.615626</td>\n",
       "      <td>0.823646</td>\n",
       "    </tr>\n",
       "    <tr>\n",
       "      <th>9615</th>\n",
       "      <td>43.216990</td>\n",
       "      <td>-77.755610</td>\n",
       "      <td>0.521415</td>\n",
       "      <td>0.318411</td>\n",
       "      <td>0.806702</td>\n",
       "      <td>0.903947</td>\n",
       "    </tr>\n",
       "    <tr>\n",
       "      <th>9616</th>\n",
       "      <td>44.925908</td>\n",
       "      <td>-122.982753</td>\n",
       "      <td>0.559052</td>\n",
       "      <td>0.139104</td>\n",
       "      <td>1.105428</td>\n",
       "      <td>-1.628875</td>\n",
       "    </tr>\n",
       "    <tr>\n",
       "      <th>9617</th>\n",
       "      <td>43.029559</td>\n",
       "      <td>-89.397796</td>\n",
       "      <td>0.517287</td>\n",
       "      <td>0.272255</td>\n",
       "      <td>0.773939</td>\n",
       "      <td>0.251959</td>\n",
       "    </tr>\n",
       "    <tr>\n",
       "      <th>9618</th>\n",
       "      <td>36.670000</td>\n",
       "      <td>-76.300000</td>\n",
       "      <td>0.377227</td>\n",
       "      <td>0.324182</td>\n",
       "      <td>-0.337738</td>\n",
       "      <td>0.985465</td>\n",
       "    </tr>\n",
       "  </tbody>\n",
       "</table>\n",
       "<p>9619 rows × 6 columns</p>\n",
       "</div>"
      ],
      "text/plain": [
       "            lat        long    lat.mm   long.mm   lat_std  long_std\n",
       "0     35.060000  -85.250000  0.341769  0.288699 -0.619172  0.484245\n",
       "1     40.821805  -74.061962  0.468665  0.333055  0.388014  1.110800\n",
       "2     33.779214  -84.411811  0.313561  0.292022 -0.843059  0.531185\n",
       "3     35.715954  -78.655304  0.356215  0.314844 -0.504509  0.853562\n",
       "4     35.970000  -83.940000  0.361810  0.293893 -0.460101  0.557607\n",
       "...         ...         ...       ...       ...       ...       ...\n",
       "9614  42.123900  -79.189500  0.497341  0.312727  0.615626  0.823646\n",
       "9615  43.216990  -77.755610  0.521415  0.318411  0.806702  0.903947\n",
       "9616  44.925908 -122.982753  0.559052  0.139104  1.105428 -1.628875\n",
       "9617  43.029559  -89.397796  0.517287  0.272255  0.773939  0.251959\n",
       "9618  36.670000  -76.300000  0.377227  0.324182 -0.337738  0.985465\n",
       "\n",
       "[9619 rows x 6 columns]"
      ]
     },
     "execution_count": 54,
     "metadata": {},
     "output_type": "execute_result"
    }
   ],
   "source": [
    "data_geografic"
   ]
  },
  {
   "cell_type": "markdown",
   "id": "912df46e",
   "metadata": {},
   "source": [
    "Выведем описательные статистики для всех географических признаков. Посмотрим на различия в статистиках для исходных признаков и нормализованных с помощью стандартизации и MinMax-преобразования."
   ]
  },
  {
   "cell_type": "code",
   "execution_count": 55,
   "id": "2021553a",
   "metadata": {},
   "outputs": [
    {
     "data": {
      "text/html": [
       "<div>\n",
       "<style scoped>\n",
       "    .dataframe tbody tr th:only-of-type {\n",
       "        vertical-align: middle;\n",
       "    }\n",
       "\n",
       "    .dataframe tbody tr th {\n",
       "        vertical-align: top;\n",
       "    }\n",
       "\n",
       "    .dataframe thead th {\n",
       "        text-align: right;\n",
       "    }\n",
       "</style>\n",
       "<table border=\"1\" class=\"dataframe\">\n",
       "  <thead>\n",
       "    <tr style=\"text-align: right;\">\n",
       "      <th></th>\n",
       "      <th>lat</th>\n",
       "      <th>long</th>\n",
       "      <th>lat.mm</th>\n",
       "      <th>long.mm</th>\n",
       "      <th>lat_std</th>\n",
       "      <th>long_std</th>\n",
       "    </tr>\n",
       "  </thead>\n",
       "  <tbody>\n",
       "    <tr>\n",
       "      <th>count</th>\n",
       "      <td>9619.000000</td>\n",
       "      <td>9619.000000</td>\n",
       "      <td>9619.000000</td>\n",
       "      <td>9619.000000</td>\n",
       "      <td>9.619000e+03</td>\n",
       "      <td>9.619000e+03</td>\n",
       "    </tr>\n",
       "    <tr>\n",
       "      <th>mean</th>\n",
       "      <td>38.602095</td>\n",
       "      <td>-93.896875</td>\n",
       "      <td>0.419779</td>\n",
       "      <td>0.254418</td>\n",
       "      <td>2.108662e-16</td>\n",
       "      <td>-4.267993e-16</td>\n",
       "    </tr>\n",
       "    <tr>\n",
       "      <th>std</th>\n",
       "      <td>5.720989</td>\n",
       "      <td>17.857352</td>\n",
       "      <td>0.125997</td>\n",
       "      <td>0.070797</td>\n",
       "      <td>1.000052e+00</td>\n",
       "      <td>1.000052e+00</td>\n",
       "    </tr>\n",
       "    <tr>\n",
       "      <th>min</th>\n",
       "      <td>19.541726</td>\n",
       "      <td>-158.069300</td>\n",
       "      <td>0.000000</td>\n",
       "      <td>0.000000</td>\n",
       "      <td>-3.331829e+00</td>\n",
       "      <td>-3.593801e+00</td>\n",
       "    </tr>\n",
       "    <tr>\n",
       "      <th>25%</th>\n",
       "      <td>34.920000</td>\n",
       "      <td>-106.944340</td>\n",
       "      <td>0.338685</td>\n",
       "      <td>0.202690</td>\n",
       "      <td>-6.436450e-01</td>\n",
       "      <td>-7.306875e-01</td>\n",
       "    </tr>\n",
       "    <tr>\n",
       "      <th>50%</th>\n",
       "      <td>39.300000</td>\n",
       "      <td>-87.845800</td>\n",
       "      <td>0.435149</td>\n",
       "      <td>0.278408</td>\n",
       "      <td>1.219966e-01</td>\n",
       "      <td>3.388739e-01</td>\n",
       "    </tr>\n",
       "    <tr>\n",
       "      <th>75%</th>\n",
       "      <td>42.382100</td>\n",
       "      <td>-80.678711</td>\n",
       "      <td>0.503028</td>\n",
       "      <td>0.306822</td>\n",
       "      <td>6.607601e-01</td>\n",
       "      <td>7.402470e-01</td>\n",
       "    </tr>\n",
       "    <tr>\n",
       "      <th>max</th>\n",
       "      <td>64.947500</td>\n",
       "      <td>94.163200</td>\n",
       "      <td>1.000000</td>\n",
       "      <td>1.000000</td>\n",
       "      <td>4.605283e+00</td>\n",
       "      <td>1.053179e+01</td>\n",
       "    </tr>\n",
       "  </tbody>\n",
       "</table>\n",
       "</div>"
      ],
      "text/plain": [
       "               lat         long       lat.mm      long.mm       lat_std  \\\n",
       "count  9619.000000  9619.000000  9619.000000  9619.000000  9.619000e+03   \n",
       "mean     38.602095   -93.896875     0.419779     0.254418  2.108662e-16   \n",
       "std       5.720989    17.857352     0.125997     0.070797  1.000052e+00   \n",
       "min      19.541726  -158.069300     0.000000     0.000000 -3.331829e+00   \n",
       "25%      34.920000  -106.944340     0.338685     0.202690 -6.436450e-01   \n",
       "50%      39.300000   -87.845800     0.435149     0.278408  1.219966e-01   \n",
       "75%      42.382100   -80.678711     0.503028     0.306822  6.607601e-01   \n",
       "max      64.947500    94.163200     1.000000     1.000000  4.605283e+00   \n",
       "\n",
       "           long_std  \n",
       "count  9.619000e+03  \n",
       "mean  -4.267993e-16  \n",
       "std    1.000052e+00  \n",
       "min   -3.593801e+00  \n",
       "25%   -7.306875e-01  \n",
       "50%    3.388739e-01  \n",
       "75%    7.402470e-01  \n",
       "max    1.053179e+01  "
      ]
     },
     "execution_count": 55,
     "metadata": {},
     "output_type": "execute_result"
    }
   ],
   "source": [
    "data_geografic.describe()"
   ]
  },
  {
   "cell_type": "markdown",
   "id": "d98ddb8c",
   "metadata": {},
   "source": [
    "Выведем матрицу корреляций для всех географических признаков, чтобы убедиться, что нормализация признаков сохранила свойства исходных признаков."
   ]
  },
  {
   "cell_type": "code",
   "execution_count": 56,
   "id": "e40feb71",
   "metadata": {},
   "outputs": [
    {
     "data": {
      "image/png": "[encoded data removed]",
      "text/plain": [
       "<Figure size 864x576 with 2 Axes>"
      ]
     },
     "metadata": {
      "needs_background": "light"
     },
     "output_type": "display_data"
    }
   ],
   "source": [
    "plt.figure(figsize=(12, 8))\n",
    "\n",
    "columns = data_geografic.corr().columns.tolist()\n",
    "plt.imshow(data_geografic.corr())\n",
    "\n",
    "plt.title(\"Корреляция численных признаков\")\n",
    "plt.xticks(range(0, len(columns)), columns)\n",
    "plt.yticks(range(0, len(columns)), columns)\n",
    "plt.colorbar()\n",
    "plt.show()"
   ]
  },
  {
   "cell_type": "markdown",
   "id": "d443fda0",
   "metadata": {},
   "source": [
    "#### RobustScaler"
   ]
  },
  {
   "cell_type": "markdown",
   "id": "2149b659",
   "metadata": {},
   "source": [
    "RobustScalerпреобразует вектор признаков путем вычитания медианы, а затем деления на диапазон между четвертями (значение 75% - значение 25%).\n",
    "\n",
    "Обратите внимание, что RobustScaler не масштабирует данные в заранее определенный интервал, как MinMaxScaler. Диапазон для каждой функции после применения RobustScaler больше, чем для MinMaxScaler.\n",
    "\n",
    "Используйте RobustScaler, если вы хотите уменьшить влияние выбросов по сравнению с MinMaxScaler."
   ]
  },
  {
   "cell_type": "markdown",
   "id": "90030357",
   "metadata": {},
   "source": [
    "#### Normalizer"
   ]
  },
  {
   "cell_type": "markdown",
   "id": "376bd1a6",
   "metadata": {},
   "source": [
    "Нормализатор преобразует все функции в значения от -1 до 1 \n",
    "Normalizerработает над строками, а не над столбцами! \n",
    "\n",
    "По умолчанию нормализация L2 применяется к каждому наблюдению, так что значения в строке имеют единичную норму.Единица нормыс L2 означает, что если бы каждый элемент был возведен в квадрат и суммирован, сумма была бы равна 1."
   ]
  },
  {
   "cell_type": "markdown",
   "id": "2c941d74",
   "metadata": {},
   "source": [
    "## Шпаргалки!"
   ]
  },
  {
   "cell_type": "markdown",
   "id": "6ab7efbf",
   "metadata": {},
   "source": [
    "- Используйте MinMaxScaler по умолчанию, если вы преобразовываете функцию. Это не искажает.\n",
    "\n",
    "- Вы можете использовать RobustScaler, если у вас есть выбросы и вы хотите уменьшить их влияние. Тем не менее, вам лучше удалить выбросы.\n",
    "\n",
    "- Используйте StandardScaler, если вам нужен относительно нормальный дистрибутив.\n",
    "\n",
    "- Используйте Normalizer экономно - он нормализует строки выборки, а не столбцы объектов. Он может использовать нормализацию l2 или l1."
   ]
  },
  {
   "cell_type": "markdown",
   "id": "8499a2a4",
   "metadata": {},
   "source": [
    "<img src=\"pic1.png\"></img>"
   ]
  },
  {
   "cell_type": "markdown",
   "id": "241d9f63",
   "metadata": {},
   "source": [
    "### Признаки на основе дат\n",
    "\n",
    "Выведем по отдельности колонки `posting_date` и `date`. "
   ]
  },
  {
   "cell_type": "code",
   "execution_count": 57,
   "id": "40a110b5",
   "metadata": {},
   "outputs": [
    {
     "data": {
      "text/plain": [
       "0       2021-04-17 16:30:50+00:00\n",
       "1       2021-05-03 19:40:21+00:00\n",
       "2       2021-04-28 10:52:20+00:00\n",
       "3       2021-04-17 14:08:57+00:00\n",
       "4       2021-04-08 19:10:56+00:00\n",
       "                  ...            \n",
       "9614    2021-04-10 20:33:57+00:00\n",
       "9615    2021-05-03 13:36:30+00:00\n",
       "9616    2021-04-22 19:14:01+00:00\n",
       "9617    2021-04-14 14:14:42+00:00\n",
       "9618    2021-04-24 17:50:49+00:00\n",
       "Name: date, Length: 9619, dtype: object"
      ]
     },
     "execution_count": 57,
     "metadata": {},
     "output_type": "execute_result"
    }
   ],
   "source": [
    "df.date"
   ]
  },
  {
   "cell_type": "code",
   "execution_count": 58,
   "id": "27fac14b",
   "metadata": {},
   "outputs": [
    {
     "name": "stdout",
     "output_type": "stream",
     "text": [
      "<class 'pandas.core.frame.DataFrame'>\n",
      "RangeIndex: 9619 entries, 0 to 9618\n",
      "Data columns (total 2 columns):\n",
      " #   Column        Non-Null Count  Dtype \n",
      "---  ------        --------------  ----- \n",
      " 0   posting_date  9619 non-null   object\n",
      " 1   date          9619 non-null   object\n",
      "dtypes: object(2)\n",
      "memory usage: 150.4+ KB\n"
     ]
    }
   ],
   "source": [
    "df[['posting_date', 'date']].info()"
   ]
  },
  {
   "cell_type": "code",
   "execution_count": 62,
   "id": "aaf2a08d",
   "metadata": {},
   "outputs": [
    {
     "name": "stdout",
     "output_type": "stream",
     "text": [
      "<class 'pandas.core.frame.DataFrame'>\n",
      "RangeIndex: 9619 entries, 0 to 9618\n",
      "Data columns (total 1 columns):\n",
      " #   Column  Non-Null Count  Dtype              \n",
      "---  ------  --------------  -----              \n",
      " 0   data    9619 non-null   datetime64[ns, UTC]\n",
      "dtypes: datetime64[ns, UTC](1)\n",
      "memory usage: 75.3 KB\n"
     ]
    }
   ],
   "source": [
    "data[['data']].info()"
   ]
  },
  {
   "cell_type": "markdown",
   "id": "70a1f5d0",
   "metadata": {},
   "source": [
    "Ранее преобразованная колонка `date` после сохранения в файл и загрузки из него содержит данные в строковом формате, поэтому изменим её тип c помощью `pd.to_datetime`."
   ]
  },
  {
   "cell_type": "code",
   "execution_count": 59,
   "id": "9d3735a2",
   "metadata": {},
   "outputs": [
    {
     "data": {
      "text/html": [
       "<div>\n",
       "<style scoped>\n",
       "    .dataframe tbody tr th:only-of-type {\n",
       "        vertical-align: middle;\n",
       "    }\n",
       "\n",
       "    .dataframe tbody tr th {\n",
       "        vertical-align: top;\n",
       "    }\n",
       "\n",
       "    .dataframe thead th {\n",
       "        text-align: right;\n",
       "    }\n",
       "</style>\n",
       "<table border=\"1\" class=\"dataframe\">\n",
       "  <thead>\n",
       "    <tr style=\"text-align: right;\">\n",
       "      <th></th>\n",
       "      <th>data</th>\n",
       "    </tr>\n",
       "  </thead>\n",
       "  <tbody>\n",
       "    <tr>\n",
       "      <th>0</th>\n",
       "      <td>2021-04-17 16:30:50+00:00</td>\n",
       "    </tr>\n",
       "    <tr>\n",
       "      <th>1</th>\n",
       "      <td>2021-05-03 19:40:21+00:00</td>\n",
       "    </tr>\n",
       "    <tr>\n",
       "      <th>2</th>\n",
       "      <td>2021-04-28 10:52:20+00:00</td>\n",
       "    </tr>\n",
       "    <tr>\n",
       "      <th>3</th>\n",
       "      <td>2021-04-17 14:08:57+00:00</td>\n",
       "    </tr>\n",
       "    <tr>\n",
       "      <th>4</th>\n",
       "      <td>2021-04-08 19:10:56+00:00</td>\n",
       "    </tr>\n",
       "    <tr>\n",
       "      <th>...</th>\n",
       "      <td>...</td>\n",
       "    </tr>\n",
       "    <tr>\n",
       "      <th>9614</th>\n",
       "      <td>2021-04-10 20:33:57+00:00</td>\n",
       "    </tr>\n",
       "    <tr>\n",
       "      <th>9615</th>\n",
       "      <td>2021-05-03 13:36:30+00:00</td>\n",
       "    </tr>\n",
       "    <tr>\n",
       "      <th>9616</th>\n",
       "      <td>2021-04-22 19:14:01+00:00</td>\n",
       "    </tr>\n",
       "    <tr>\n",
       "      <th>9617</th>\n",
       "      <td>2021-04-14 14:14:42+00:00</td>\n",
       "    </tr>\n",
       "    <tr>\n",
       "      <th>9618</th>\n",
       "      <td>2021-04-24 17:50:49+00:00</td>\n",
       "    </tr>\n",
       "  </tbody>\n",
       "</table>\n",
       "<p>9619 rows × 1 columns</p>\n",
       "</div>"
      ],
      "text/plain": [
       "                          data\n",
       "0    2021-04-17 16:30:50+00:00\n",
       "1    2021-05-03 19:40:21+00:00\n",
       "2    2021-04-28 10:52:20+00:00\n",
       "3    2021-04-17 14:08:57+00:00\n",
       "4    2021-04-08 19:10:56+00:00\n",
       "...                        ...\n",
       "9614 2021-04-10 20:33:57+00:00\n",
       "9615 2021-05-03 13:36:30+00:00\n",
       "9616 2021-04-22 19:14:01+00:00\n",
       "9617 2021-04-14 14:14:42+00:00\n",
       "9618 2021-04-24 17:50:49+00:00\n",
       "\n",
       "[9619 rows x 1 columns]"
      ]
     },
     "execution_count": 59,
     "metadata": {},
     "output_type": "execute_result"
    }
   ],
   "source": [
    "data = pd.DataFrame()\n",
    "data['data'] = pd.to_datetime(df['date'])\n",
    "data"
   ]
  },
  {
   "cell_type": "markdown",
   "id": "f81a9153",
   "metadata": {},
   "source": [
    "Извлечем номер месяца продажи автомобиля"
   ]
  },
  {
   "cell_type": "code",
   "execution_count": 63,
   "id": "cd3ed33a",
   "metadata": {},
   "outputs": [],
   "source": [
    "data['month'] = df['posting_date'].apply(lambda x: x[5:7])"
   ]
  },
  {
   "cell_type": "code",
   "execution_count": 64,
   "id": "fefc64a2",
   "metadata": {
    "scrolled": true
   },
   "outputs": [
    {
     "data": {
      "text/plain": [
       "0       4\n",
       "1       5\n",
       "2       4\n",
       "3       4\n",
       "4       4\n",
       "       ..\n",
       "9614    4\n",
       "9615    5\n",
       "9616    4\n",
       "9617    4\n",
       "9618    4\n",
       "Name: data, Length: 9619, dtype: int64"
      ]
     },
     "execution_count": 64,
     "metadata": {},
     "output_type": "execute_result"
    }
   ],
   "source": [
    "data['data'].apply(lambda x: x.month)"
   ]
  },
  {
   "cell_type": "code",
   "execution_count": 65,
   "id": "270e14ee",
   "metadata": {},
   "outputs": [
    {
     "data": {
      "text/plain": [
       "0       4\n",
       "1       5\n",
       "2       4\n",
       "3       4\n",
       "4       4\n",
       "       ..\n",
       "9614    4\n",
       "9615    5\n",
       "9616    4\n",
       "9617    4\n",
       "9618    4\n",
       "Name: data, Length: 9619, dtype: int64"
      ]
     },
     "execution_count": 65,
     "metadata": {},
     "output_type": "execute_result"
    }
   ],
   "source": [
    "data['data'].dt.month"
   ]
  },
  {
   "cell_type": "markdown",
   "id": "3f97be73",
   "metadata": {},
   "source": [
    "Давайте придумаем еще пару методов!"
   ]
  },
  {
   "cell_type": "markdown",
   "id": "5cd569ee",
   "metadata": {},
   "source": [
    "Создадим признак `dayofweek`, обозначающий день недели размещения объявления о продаже автомобиля"
   ]
  },
  {
   "cell_type": "code",
   "execution_count": 66,
   "id": "c1bb8caf",
   "metadata": {},
   "outputs": [
    {
     "data": {
      "text/plain": [
       "0       5\n",
       "1       0\n",
       "2       2\n",
       "3       5\n",
       "4       3\n",
       "       ..\n",
       "9614    5\n",
       "9615    0\n",
       "9616    3\n",
       "9617    2\n",
       "9618    5\n",
       "Name: dayofweek, Length: 9619, dtype: int64"
      ]
     },
     "execution_count": 66,
     "metadata": {},
     "output_type": "execute_result"
    }
   ],
   "source": [
    "data['dayofweek'] = data['data'].dt.weekday\n",
    "data['dayofweek']"
   ]
  },
  {
   "cell_type": "markdown",
   "id": "387b47bb",
   "metadata": {},
   "source": [
    "Создадим признак `diff_years`, обозначающий количество лет между годом производства автомобиля и годом размещения объявления о продаже автомобиля"
   ]
  },
  {
   "cell_type": "code",
   "execution_count": 67,
   "id": "b6d5198f",
   "metadata": {},
   "outputs": [
    {
     "data": {
      "text/plain": [
       "0        1\n",
       "1        5\n",
       "2        4\n",
       "3        8\n",
       "4        9\n",
       "        ..\n",
       "9614    19\n",
       "9615    13\n",
       "9616    10\n",
       "9617     6\n",
       "9618     4\n",
       "Name: diff_years, Length: 9619, dtype: int64"
      ]
     },
     "execution_count": 67,
     "metadata": {},
     "output_type": "execute_result"
    }
   ],
   "source": [
    "data['diff_years'] = df[['year']].apply(lambda x: data['data'].dt.year - x)\n",
    "data['diff_years']"
   ]
  },
  {
   "cell_type": "markdown",
   "id": "67a45d12",
   "metadata": {},
   "source": [
    "Применим стандартизацию к новым признаками и сохраним результат в новые признаки вида month_std."
   ]
  },
  {
   "cell_type": "code",
   "execution_count": 68,
   "id": "401af2da",
   "metadata": {},
   "outputs": [
    {
     "name": "stdout",
     "output_type": "stream",
     "text": [
      "(9619, 3)\n"
     ]
    }
   ],
   "source": [
    "std_scaler = StandardScaler()\n",
    "\n",
    "std_scaler.fit(data[['month', 'dayofweek', 'diff_years']])\n",
    "std_scaled = std_scaler.transform(data[['month', 'dayofweek', 'diff_years']])\n",
    "\n",
    "print(std_scaled.shape)\n",
    "\n",
    "data[['month_std', 'dayofweek_std', 'diff_years_std']] = std_scaled"
   ]
  },
  {
   "cell_type": "code",
   "execution_count": 69,
   "id": "f770caa9",
   "metadata": {},
   "outputs": [
    {
     "data": {
      "text/html": [
       "<div>\n",
       "<style scoped>\n",
       "    .dataframe tbody tr th:only-of-type {\n",
       "        vertical-align: middle;\n",
       "    }\n",
       "\n",
       "    .dataframe tbody tr th {\n",
       "        vertical-align: top;\n",
       "    }\n",
       "\n",
       "    .dataframe thead th {\n",
       "        text-align: right;\n",
       "    }\n",
       "</style>\n",
       "<table border=\"1\" class=\"dataframe\">\n",
       "  <thead>\n",
       "    <tr style=\"text-align: right;\">\n",
       "      <th></th>\n",
       "      <th>data</th>\n",
       "      <th>month</th>\n",
       "      <th>dayofweek</th>\n",
       "      <th>diff_years</th>\n",
       "      <th>month_std</th>\n",
       "      <th>dayofweek_std</th>\n",
       "      <th>diff_years_std</th>\n",
       "    </tr>\n",
       "  </thead>\n",
       "  <tbody>\n",
       "    <tr>\n",
       "      <th>0</th>\n",
       "      <td>2021-04-17 16:30:50+00:00</td>\n",
       "      <td>04</td>\n",
       "      <td>5</td>\n",
       "      <td>1</td>\n",
       "      <td>-0.599647</td>\n",
       "      <td>1.120284</td>\n",
       "      <td>-1.322394</td>\n",
       "    </tr>\n",
       "    <tr>\n",
       "      <th>1</th>\n",
       "      <td>2021-05-03 19:40:21+00:00</td>\n",
       "      <td>05</td>\n",
       "      <td>0</td>\n",
       "      <td>5</td>\n",
       "      <td>1.667649</td>\n",
       "      <td>-1.374972</td>\n",
       "      <td>-0.695973</td>\n",
       "    </tr>\n",
       "    <tr>\n",
       "      <th>2</th>\n",
       "      <td>2021-04-28 10:52:20+00:00</td>\n",
       "      <td>04</td>\n",
       "      <td>2</td>\n",
       "      <td>4</td>\n",
       "      <td>-0.599647</td>\n",
       "      <td>-0.376870</td>\n",
       "      <td>-0.852578</td>\n",
       "    </tr>\n",
       "    <tr>\n",
       "      <th>3</th>\n",
       "      <td>2021-04-17 14:08:57+00:00</td>\n",
       "      <td>04</td>\n",
       "      <td>5</td>\n",
       "      <td>8</td>\n",
       "      <td>-0.599647</td>\n",
       "      <td>1.120284</td>\n",
       "      <td>-0.226157</td>\n",
       "    </tr>\n",
       "    <tr>\n",
       "      <th>4</th>\n",
       "      <td>2021-04-08 19:10:56+00:00</td>\n",
       "      <td>04</td>\n",
       "      <td>3</td>\n",
       "      <td>9</td>\n",
       "      <td>-0.599647</td>\n",
       "      <td>0.122182</td>\n",
       "      <td>-0.069552</td>\n",
       "    </tr>\n",
       "  </tbody>\n",
       "</table>\n",
       "</div>"
      ],
      "text/plain": [
       "                       data month  dayofweek  diff_years  month_std  \\\n",
       "0 2021-04-17 16:30:50+00:00    04          5           1  -0.599647   \n",
       "1 2021-05-03 19:40:21+00:00    05          0           5   1.667649   \n",
       "2 2021-04-28 10:52:20+00:00    04          2           4  -0.599647   \n",
       "3 2021-04-17 14:08:57+00:00    04          5           8  -0.599647   \n",
       "4 2021-04-08 19:10:56+00:00    04          3           9  -0.599647   \n",
       "\n",
       "   dayofweek_std  diff_years_std  \n",
       "0       1.120284       -1.322394  \n",
       "1      -1.374972       -0.695973  \n",
       "2      -0.376870       -0.852578  \n",
       "3       1.120284       -0.226157  \n",
       "4       0.122182       -0.069552  "
      ]
     },
     "execution_count": 69,
     "metadata": {},
     "output_type": "execute_result"
    }
   ],
   "source": [
    "data.head(5)"
   ]
  },
  {
   "cell_type": "code",
   "execution_count": null,
   "id": "d678423a",
   "metadata": {},
   "outputs": [],
   "source": []
  }
 ],
 "metadata": {
  "kernelspec": {
   "display_name": "Python 3 (ipykernel)",
   "language": "python",
   "name": "python3"
  },
  "language_info": {
   "codemirror_mode": {
    "name": "ipython",
    "version": 3
   },
   "file_extension": ".py",
   "mimetype": "text/x-python",
   "name": "python",
   "nbconvert_exporter": "python",
   "pygments_lexer": "ipython3",
   "version": "3.11.4"
  }
 },
 "nbformat": 4,
 "nbformat_minor": 5
}
